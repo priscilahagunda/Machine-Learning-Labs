{
  "nbformat": 4,
  "nbformat_minor": 0,
  "metadata": {
    "colab": {
      "name": "Copy of TASK 2.ipynb",
      "provenance": [],
      "collapsed_sections": [],
      "include_colab_link": true
    },
    "kernelspec": {
      "name": "python3",
      "display_name": "Python 3"
    },
    "language_info": {
      "name": "python"
    }
  },
  "cells": [
    {
      "cell_type": "markdown",
      "metadata": {
        "id": "view-in-github",
        "colab_type": "text"
      },
      "source": [
        "<a href=\"https://colab.research.google.com/github/priscilahagunda/Machine-Learning-Labs/blob/main/TASK_2.ipynb\" target=\"_parent\"><img src=\"https://colab.research.google.com/assets/colab-badge.svg\" alt=\"Open In Colab\"/></a>"
      ]
    },
    {
      "cell_type": "code",
      "metadata": {
        "id": "iRD12ucdG_22"
      },
      "source": [
        "import pandas as pd\n",
        "import numpy as np\n",
        "import seaborn as sns\n",
        "from sklearn.preprocessing import StandardScaler\n",
        "from sklearn.decomposition import PCA\n",
        "from sklearn.linear_model import LassoCV\n",
        "from sklearn.model_selection import train_test_split\n",
        "from keras.models import Sequential\n",
        "from keras.layers import Dense, Activation\n",
        "import io\n",
        "import csv\n",
        "from google.colab import files\n"
      ],
      "execution_count": 223,
      "outputs": []
    },
    {
      "cell_type": "markdown",
      "source": [
        "Adding the CSV files"
      ],
      "metadata": {
        "id": "79OXnpxdywyw"
      }
    },
    {
      "cell_type": "markdown",
      "metadata": {
        "id": "U9BeC6UjPWy6"
      },
      "source": [
        "# Get the Dataset"
      ]
    },
    {
      "cell_type": "code",
      "metadata": {
        "id": "hqaTeAbNHDld",
        "colab": {
          "resources": {
            "http://localhost:8080/nbextensions/google.colab/files.js": {
              "data": "Ly8gQ29weXJpZ2h0IDIwMTcgR29vZ2xlIExMQwovLwovLyBMaWNlbnNlZCB1bmRlciB0aGUgQXBhY2hlIExpY2Vuc2UsIFZlcnNpb24gMi4wICh0aGUgIkxpY2Vuc2UiKTsKLy8geW91IG1heSBub3QgdXNlIHRoaXMgZmlsZSBleGNlcHQgaW4gY29tcGxpYW5jZSB3aXRoIHRoZSBMaWNlbnNlLgovLyBZb3UgbWF5IG9idGFpbiBhIGNvcHkgb2YgdGhlIExpY2Vuc2UgYXQKLy8KLy8gICAgICBodHRwOi8vd3d3LmFwYWNoZS5vcmcvbGljZW5zZXMvTElDRU5TRS0yLjAKLy8KLy8gVW5sZXNzIHJlcXVpcmVkIGJ5IGFwcGxpY2FibGUgbGF3IG9yIGFncmVlZCB0byBpbiB3cml0aW5nLCBzb2Z0d2FyZQovLyBkaXN0cmlidXRlZCB1bmRlciB0aGUgTGljZW5zZSBpcyBkaXN0cmlidXRlZCBvbiBhbiAiQVMgSVMiIEJBU0lTLAovLyBXSVRIT1VUIFdBUlJBTlRJRVMgT1IgQ09ORElUSU9OUyBPRiBBTlkgS0lORCwgZWl0aGVyIGV4cHJlc3Mgb3IgaW1wbGllZC4KLy8gU2VlIHRoZSBMaWNlbnNlIGZvciB0aGUgc3BlY2lmaWMgbGFuZ3VhZ2UgZ292ZXJuaW5nIHBlcm1pc3Npb25zIGFuZAovLyBsaW1pdGF0aW9ucyB1bmRlciB0aGUgTGljZW5zZS4KCi8qKgogKiBAZmlsZW92ZXJ2aWV3IEhlbHBlcnMgZm9yIGdvb2dsZS5jb2xhYiBQeXRob24gbW9kdWxlLgogKi8KKGZ1bmN0aW9uKHNjb3BlKSB7CmZ1bmN0aW9uIHNwYW4odGV4dCwgc3R5bGVBdHRyaWJ1dGVzID0ge30pIHsKICBjb25zdCBlbGVtZW50ID0gZG9jdW1lbnQuY3JlYXRlRWxlbWVudCgnc3BhbicpOwogIGVsZW1lbnQudGV4dENvbnRlbnQgPSB0ZXh0OwogIGZvciAoY29uc3Qga2V5IG9mIE9iamVjdC5rZXlzKHN0eWxlQXR0cmlidXRlcykpIHsKICAgIGVsZW1lbnQuc3R5bGVba2V5XSA9IHN0eWxlQXR0cmlidXRlc1trZXldOwogIH0KICByZXR1cm4gZWxlbWVudDsKfQoKLy8gTWF4IG51bWJlciBvZiBieXRlcyB3aGljaCB3aWxsIGJlIHVwbG9hZGVkIGF0IGEgdGltZS4KY29uc3QgTUFYX1BBWUxPQURfU0laRSA9IDEwMCAqIDEwMjQ7CgpmdW5jdGlvbiBfdXBsb2FkRmlsZXMoaW5wdXRJZCwgb3V0cHV0SWQpIHsKICBjb25zdCBzdGVwcyA9IHVwbG9hZEZpbGVzU3RlcChpbnB1dElkLCBvdXRwdXRJZCk7CiAgY29uc3Qgb3V0cHV0RWxlbWVudCA9IGRvY3VtZW50LmdldEVsZW1lbnRCeUlkKG91dHB1dElkKTsKICAvLyBDYWNoZSBzdGVwcyBvbiB0aGUgb3V0cHV0RWxlbWVudCB0byBtYWtlIGl0IGF2YWlsYWJsZSBmb3IgdGhlIG5leHQgY2FsbAogIC8vIHRvIHVwbG9hZEZpbGVzQ29udGludWUgZnJvbSBQeXRob24uCiAgb3V0cHV0RWxlbWVudC5zdGVwcyA9IHN0ZXBzOwoKICByZXR1cm4gX3VwbG9hZEZpbGVzQ29udGludWUob3V0cHV0SWQpOwp9CgovLyBUaGlzIGlzIHJvdWdobHkgYW4gYXN5bmMgZ2VuZXJhdG9yIChub3Qgc3VwcG9ydGVkIGluIHRoZSBicm93c2VyIHlldCksCi8vIHdoZXJlIHRoZXJlIGFyZSBtdWx0aXBsZSBhc3luY2hyb25vdXMgc3RlcHMgYW5kIHRoZSBQeXRob24gc2lkZSBpcyBnb2luZwovLyB0byBwb2xsIGZvciBjb21wbGV0aW9uIG9mIGVhY2ggc3RlcC4KLy8gVGhpcyB1c2VzIGEgUHJvbWlzZSB0byBibG9jayB0aGUgcHl0aG9uIHNpZGUgb24gY29tcGxldGlvbiBvZiBlYWNoIHN0ZXAsCi8vIHRoZW4gcGFzc2VzIHRoZSByZXN1bHQgb2YgdGhlIHByZXZpb3VzIHN0ZXAgYXMgdGhlIGlucHV0IHRvIHRoZSBuZXh0IHN0ZXAuCmZ1bmN0aW9uIF91cGxvYWRGaWxlc0NvbnRpbnVlKG91dHB1dElkKSB7CiAgY29uc3Qgb3V0cHV0RWxlbWVudCA9IGRvY3VtZW50LmdldEVsZW1lbnRCeUlkKG91dHB1dElkKTsKICBjb25zdCBzdGVwcyA9IG91dHB1dEVsZW1lbnQuc3RlcHM7CgogIGNvbnN0IG5leHQgPSBzdGVwcy5uZXh0KG91dHB1dEVsZW1lbnQubGFzdFByb21pc2VWYWx1ZSk7CiAgcmV0dXJuIFByb21pc2UucmVzb2x2ZShuZXh0LnZhbHVlLnByb21pc2UpLnRoZW4oKHZhbHVlKSA9PiB7CiAgICAvLyBDYWNoZSB0aGUgbGFzdCBwcm9taXNlIHZhbHVlIHRvIG1ha2UgaXQgYXZhaWxhYmxlIHRvIHRoZSBuZXh0CiAgICAvLyBzdGVwIG9mIHRoZSBnZW5lcmF0b3IuCiAgICBvdXRwdXRFbGVtZW50Lmxhc3RQcm9taXNlVmFsdWUgPSB2YWx1ZTsKICAgIHJldHVybiBuZXh0LnZhbHVlLnJlc3BvbnNlOwogIH0pOwp9CgovKioKICogR2VuZXJhdG9yIGZ1bmN0aW9uIHdoaWNoIGlzIGNhbGxlZCBiZXR3ZWVuIGVhY2ggYXN5bmMgc3RlcCBvZiB0aGUgdXBsb2FkCiAqIHByb2Nlc3MuCiAqIEBwYXJhbSB7c3RyaW5nfSBpbnB1dElkIEVsZW1lbnQgSUQgb2YgdGhlIGlucHV0IGZpbGUgcGlja2VyIGVsZW1lbnQuCiAqIEBwYXJhbSB7c3RyaW5nfSBvdXRwdXRJZCBFbGVtZW50IElEIG9mIHRoZSBvdXRwdXQgZGlzcGxheS4KICogQHJldHVybiB7IUl0ZXJhYmxlPCFPYmplY3Q+fSBJdGVyYWJsZSBvZiBuZXh0IHN0ZXBzLgogKi8KZnVuY3Rpb24qIHVwbG9hZEZpbGVzU3RlcChpbnB1dElkLCBvdXRwdXRJZCkgewogIGNvbnN0IGlucHV0RWxlbWVudCA9IGRvY3VtZW50LmdldEVsZW1lbnRCeUlkKGlucHV0SWQpOwogIGlucHV0RWxlbWVudC5kaXNhYmxlZCA9IGZhbHNlOwoKICBjb25zdCBvdXRwdXRFbGVtZW50ID0gZG9jdW1lbnQuZ2V0RWxlbWVudEJ5SWQob3V0cHV0SWQpOwogIG91dHB1dEVsZW1lbnQuaW5uZXJIVE1MID0gJyc7CgogIGNvbnN0IHBpY2tlZFByb21pc2UgPSBuZXcgUHJvbWlzZSgocmVzb2x2ZSkgPT4gewogICAgaW5wdXRFbGVtZW50LmFkZEV2ZW50TGlzdGVuZXIoJ2NoYW5nZScsIChlKSA9PiB7CiAgICAgIHJlc29sdmUoZS50YXJnZXQuZmlsZXMpOwogICAgfSk7CiAgfSk7CgogIGNvbnN0IGNhbmNlbCA9IGRvY3VtZW50LmNyZWF0ZUVsZW1lbnQoJ2J1dHRvbicpOwogIGlucHV0RWxlbWVudC5wYXJlbnRFbGVtZW50LmFwcGVuZENoaWxkKGNhbmNlbCk7CiAgY2FuY2VsLnRleHRDb250ZW50ID0gJ0NhbmNlbCB1cGxvYWQnOwogIGNvbnN0IGNhbmNlbFByb21pc2UgPSBuZXcgUHJvbWlzZSgocmVzb2x2ZSkgPT4gewogICAgY2FuY2VsLm9uY2xpY2sgPSAoKSA9PiB7CiAgICAgIHJlc29sdmUobnVsbCk7CiAgICB9OwogIH0pOwoKICAvLyBXYWl0IGZvciB0aGUgdXNlciB0byBwaWNrIHRoZSBmaWxlcy4KICBjb25zdCBmaWxlcyA9IHlpZWxkIHsKICAgIHByb21pc2U6IFByb21pc2UucmFjZShbcGlja2VkUHJvbWlzZSwgY2FuY2VsUHJvbWlzZV0pLAogICAgcmVzcG9uc2U6IHsKICAgICAgYWN0aW9uOiAnc3RhcnRpbmcnLAogICAgfQogIH07CgogIGNhbmNlbC5yZW1vdmUoKTsKCiAgLy8gRGlzYWJsZSB0aGUgaW5wdXQgZWxlbWVudCBzaW5jZSBmdXJ0aGVyIHBpY2tzIGFyZSBub3QgYWxsb3dlZC4KICBpbnB1dEVsZW1lbnQuZGlzYWJsZWQgPSB0cnVlOwoKICBpZiAoIWZpbGVzKSB7CiAgICByZXR1cm4gewogICAgICByZXNwb25zZTogewogICAgICAgIGFjdGlvbjogJ2NvbXBsZXRlJywKICAgICAgfQogICAgfTsKICB9CgogIGZvciAoY29uc3QgZmlsZSBvZiBmaWxlcykgewogICAgY29uc3QgbGkgPSBkb2N1bWVudC5jcmVhdGVFbGVtZW50KCdsaScpOwogICAgbGkuYXBwZW5kKHNwYW4oZmlsZS5uYW1lLCB7Zm9udFdlaWdodDogJ2JvbGQnfSkpOwogICAgbGkuYXBwZW5kKHNwYW4oCiAgICAgICAgYCgke2ZpbGUudHlwZSB8fCAnbi9hJ30pIC0gJHtmaWxlLnNpemV9IGJ5dGVzLCBgICsKICAgICAgICBgbGFzdCBtb2RpZmllZDogJHsKICAgICAgICAgICAgZmlsZS5sYXN0TW9kaWZpZWREYXRlID8gZmlsZS5sYXN0TW9kaWZpZWREYXRlLnRvTG9jYWxlRGF0ZVN0cmluZygpIDoKICAgICAgICAgICAgICAgICAgICAgICAgICAgICAgICAgICAgJ24vYSd9IC0gYCkpOwogICAgY29uc3QgcGVyY2VudCA9IHNwYW4oJzAlIGRvbmUnKTsKICAgIGxpLmFwcGVuZENoaWxkKHBlcmNlbnQpOwoKICAgIG91dHB1dEVsZW1lbnQuYXBwZW5kQ2hpbGQobGkpOwoKICAgIGNvbnN0IGZpbGVEYXRhUHJvbWlzZSA9IG5ldyBQcm9taXNlKChyZXNvbHZlKSA9PiB7CiAgICAgIGNvbnN0IHJlYWRlciA9IG5ldyBGaWxlUmVhZGVyKCk7CiAgICAgIHJlYWRlci5vbmxvYWQgPSAoZSkgPT4gewogICAgICAgIHJlc29sdmUoZS50YXJnZXQucmVzdWx0KTsKICAgICAgfTsKICAgICAgcmVhZGVyLnJlYWRBc0FycmF5QnVmZmVyKGZpbGUpOwogICAgfSk7CiAgICAvLyBXYWl0IGZvciB0aGUgZGF0YSB0byBiZSByZWFkeS4KICAgIGxldCBmaWxlRGF0YSA9IHlpZWxkIHsKICAgICAgcHJvbWlzZTogZmlsZURhdGFQcm9taXNlLAogICAgICByZXNwb25zZTogewogICAgICAgIGFjdGlvbjogJ2NvbnRpbnVlJywKICAgICAgfQogICAgfTsKCiAgICAvLyBVc2UgYSBjaHVua2VkIHNlbmRpbmcgdG8gYXZvaWQgbWVzc2FnZSBzaXplIGxpbWl0cy4gU2VlIGIvNjIxMTU2NjAuCiAgICBsZXQgcG9zaXRpb24gPSAwOwogICAgZG8gewogICAgICBjb25zdCBsZW5ndGggPSBNYXRoLm1pbihmaWxlRGF0YS5ieXRlTGVuZ3RoIC0gcG9zaXRpb24sIE1BWF9QQVlMT0FEX1NJWkUpOwogICAgICBjb25zdCBjaHVuayA9IG5ldyBVaW50OEFycmF5KGZpbGVEYXRhLCBwb3NpdGlvbiwgbGVuZ3RoKTsKICAgICAgcG9zaXRpb24gKz0gbGVuZ3RoOwoKICAgICAgY29uc3QgYmFzZTY0ID0gYnRvYShTdHJpbmcuZnJvbUNoYXJDb2RlLmFwcGx5KG51bGwsIGNodW5rKSk7CiAgICAgIHlpZWxkIHsKICAgICAgICByZXNwb25zZTogewogICAgICAgICAgYWN0aW9uOiAnYXBwZW5kJywKICAgICAgICAgIGZpbGU6IGZpbGUubmFtZSwKICAgICAgICAgIGRhdGE6IGJhc2U2NCwKICAgICAgICB9LAogICAgICB9OwoKICAgICAgbGV0IHBlcmNlbnREb25lID0gZmlsZURhdGEuYnl0ZUxlbmd0aCA9PT0gMCA/CiAgICAgICAgICAxMDAgOgogICAgICAgICAgTWF0aC5yb3VuZCgocG9zaXRpb24gLyBmaWxlRGF0YS5ieXRlTGVuZ3RoKSAqIDEwMCk7CiAgICAgIHBlcmNlbnQudGV4dENvbnRlbnQgPSBgJHtwZXJjZW50RG9uZX0lIGRvbmVgOwoKICAgIH0gd2hpbGUgKHBvc2l0aW9uIDwgZmlsZURhdGEuYnl0ZUxlbmd0aCk7CiAgfQoKICAvLyBBbGwgZG9uZS4KICB5aWVsZCB7CiAgICByZXNwb25zZTogewogICAgICBhY3Rpb246ICdjb21wbGV0ZScsCiAgICB9CiAgfTsKfQoKc2NvcGUuZ29vZ2xlID0gc2NvcGUuZ29vZ2xlIHx8IHt9OwpzY29wZS5nb29nbGUuY29sYWIgPSBzY29wZS5nb29nbGUuY29sYWIgfHwge307CnNjb3BlLmdvb2dsZS5jb2xhYi5fZmlsZXMgPSB7CiAgX3VwbG9hZEZpbGVzLAogIF91cGxvYWRGaWxlc0NvbnRpbnVlLAp9Owp9KShzZWxmKTsK",
              "ok": true,
              "headers": [
                [
                  "content-type",
                  "application/javascript"
                ]
              ],
              "status": 200,
              "status_text": ""
            }
          },
          "base_uri": "https://localhost:8080/",
          "height": 73
        },
        "outputId": "2fecacf3-f97c-4c0a-cd4c-10f0aafcc4c1"
      },
      "source": [
        "upload = files.upload()\n",
        "data = pd.read_csv(io.BytesIO(upload['modified_data.csv']))"
      ],
      "execution_count": 224,
      "outputs": [
        {
          "output_type": "display_data",
          "data": {
            "text/plain": [
              "<IPython.core.display.HTML object>"
            ],
            "text/html": [
              "\n",
              "     <input type=\"file\" id=\"files-3a86f271-1706-45a1-acf1-6a3a91dd4813\" name=\"files[]\" multiple disabled\n",
              "        style=\"border:none\" />\n",
              "     <output id=\"result-3a86f271-1706-45a1-acf1-6a3a91dd4813\">\n",
              "      Upload widget is only available when the cell has been executed in the\n",
              "      current browser session. Please rerun this cell to enable.\n",
              "      </output>\n",
              "      <script src=\"/nbextensions/google.colab/files.js\"></script> "
            ]
          },
          "metadata": {}
        },
        {
          "output_type": "stream",
          "name": "stdout",
          "text": [
            "Saving modified_data.csv to modified_data (4).csv\n"
          ]
        }
      ]
    },
    {
      "cell_type": "markdown",
      "source": [
        "Number of rows\n"
      ],
      "metadata": {
        "id": "05tYi4sZ0fsu"
      }
    },
    {
      "cell_type": "code",
      "metadata": {
        "colab": {
          "base_uri": "https://localhost:8080/",
          "height": 456
        },
        "id": "AwyN2dxBHXSV",
        "outputId": "2b539402-83ef-45a7-ebeb-88ee4da5e757"
      },
      "source": [
        "data.head(10)"
      ],
      "execution_count": 225,
      "outputs": [
        {
          "output_type": "execute_result",
          "data": {
            "text/plain": [
              "   Id  MSSubClass MSZoning  LotFrontage  LotArea Street LotShape LandContour  \\\n",
              "0   1          60       RL         65.0     8450   Pave      Reg         Lvl   \n",
              "1   2          20       RL         80.0     9600   Pave      Reg         Lvl   \n",
              "2   3          60       RL         68.0    11250   Pave      IR1         Lvl   \n",
              "3   4          70       RL         60.0     9550   Pave      IR1         Lvl   \n",
              "4   5          60       RL         84.0    14260   Pave      IR1         Lvl   \n",
              "5   6          50       RL         85.0    14115   Pave      IR1         Lvl   \n",
              "6   7          20       RL         75.0    10084   Pave      Reg         Lvl   \n",
              "7   8          60       RL          NaN    10382   Pave      IR1         Lvl   \n",
              "8   9          50       RM         51.0     6120   Pave      Reg         Lvl   \n",
              "9  10         190       RL         50.0     7420   Pave      Reg         Lvl   \n",
              "\n",
              "  Utilities LotConfig  ... EnclosedPorch 3SsnPorch ScreenPorch PoolArea  \\\n",
              "0    AllPub    Inside  ...             0         0           0        0   \n",
              "1    AllPub       FR2  ...             0         0           0        0   \n",
              "2    AllPub    Inside  ...             0         0           0        0   \n",
              "3    AllPub    Corner  ...           272         0           0        0   \n",
              "4    AllPub       FR2  ...             0         0           0        0   \n",
              "5    AllPub    Inside  ...             0       320           0        0   \n",
              "6    AllPub    Inside  ...             0         0           0        0   \n",
              "7    AllPub    Corner  ...           228         0           0        0   \n",
              "8    AllPub    Inside  ...           205         0           0        0   \n",
              "9    AllPub    Corner  ...             0         0           0        0   \n",
              "\n",
              "  MiscVal MoSold  YrSold  SaleType  SaleCondition  SalePrice  \n",
              "0       0      2    2008        WD         Normal     208500  \n",
              "1       0      5    2007        WD         Normal     181500  \n",
              "2       0      9    2008        WD         Normal     223500  \n",
              "3       0      2    2006        WD        Abnorml     140000  \n",
              "4       0     12    2008        WD         Normal     250000  \n",
              "5     700     10    2009        WD         Normal     143000  \n",
              "6       0      8    2007        WD         Normal     307000  \n",
              "7     350     11    2009        WD         Normal     200000  \n",
              "8       0      4    2008        WD        Abnorml     129900  \n",
              "9       0      1    2008        WD         Normal     118000  \n",
              "\n",
              "[10 rows x 77 columns]"
            ],
            "text/html": [
              "\n",
              "  <div id=\"df-5a465b66-b9d0-45b8-8b9b-a682c79de6da\">\n",
              "    <div class=\"colab-df-container\">\n",
              "      <div>\n",
              "<style scoped>\n",
              "    .dataframe tbody tr th:only-of-type {\n",
              "        vertical-align: middle;\n",
              "    }\n",
              "\n",
              "    .dataframe tbody tr th {\n",
              "        vertical-align: top;\n",
              "    }\n",
              "\n",
              "    .dataframe thead th {\n",
              "        text-align: right;\n",
              "    }\n",
              "</style>\n",
              "<table border=\"1\" class=\"dataframe\">\n",
              "  <thead>\n",
              "    <tr style=\"text-align: right;\">\n",
              "      <th></th>\n",
              "      <th>Id</th>\n",
              "      <th>MSSubClass</th>\n",
              "      <th>MSZoning</th>\n",
              "      <th>LotFrontage</th>\n",
              "      <th>LotArea</th>\n",
              "      <th>Street</th>\n",
              "      <th>LotShape</th>\n",
              "      <th>LandContour</th>\n",
              "      <th>Utilities</th>\n",
              "      <th>LotConfig</th>\n",
              "      <th>...</th>\n",
              "      <th>EnclosedPorch</th>\n",
              "      <th>3SsnPorch</th>\n",
              "      <th>ScreenPorch</th>\n",
              "      <th>PoolArea</th>\n",
              "      <th>MiscVal</th>\n",
              "      <th>MoSold</th>\n",
              "      <th>YrSold</th>\n",
              "      <th>SaleType</th>\n",
              "      <th>SaleCondition</th>\n",
              "      <th>SalePrice</th>\n",
              "    </tr>\n",
              "  </thead>\n",
              "  <tbody>\n",
              "    <tr>\n",
              "      <th>0</th>\n",
              "      <td>1</td>\n",
              "      <td>60</td>\n",
              "      <td>RL</td>\n",
              "      <td>65.0</td>\n",
              "      <td>8450</td>\n",
              "      <td>Pave</td>\n",
              "      <td>Reg</td>\n",
              "      <td>Lvl</td>\n",
              "      <td>AllPub</td>\n",
              "      <td>Inside</td>\n",
              "      <td>...</td>\n",
              "      <td>0</td>\n",
              "      <td>0</td>\n",
              "      <td>0</td>\n",
              "      <td>0</td>\n",
              "      <td>0</td>\n",
              "      <td>2</td>\n",
              "      <td>2008</td>\n",
              "      <td>WD</td>\n",
              "      <td>Normal</td>\n",
              "      <td>208500</td>\n",
              "    </tr>\n",
              "    <tr>\n",
              "      <th>1</th>\n",
              "      <td>2</td>\n",
              "      <td>20</td>\n",
              "      <td>RL</td>\n",
              "      <td>80.0</td>\n",
              "      <td>9600</td>\n",
              "      <td>Pave</td>\n",
              "      <td>Reg</td>\n",
              "      <td>Lvl</td>\n",
              "      <td>AllPub</td>\n",
              "      <td>FR2</td>\n",
              "      <td>...</td>\n",
              "      <td>0</td>\n",
              "      <td>0</td>\n",
              "      <td>0</td>\n",
              "      <td>0</td>\n",
              "      <td>0</td>\n",
              "      <td>5</td>\n",
              "      <td>2007</td>\n",
              "      <td>WD</td>\n",
              "      <td>Normal</td>\n",
              "      <td>181500</td>\n",
              "    </tr>\n",
              "    <tr>\n",
              "      <th>2</th>\n",
              "      <td>3</td>\n",
              "      <td>60</td>\n",
              "      <td>RL</td>\n",
              "      <td>68.0</td>\n",
              "      <td>11250</td>\n",
              "      <td>Pave</td>\n",
              "      <td>IR1</td>\n",
              "      <td>Lvl</td>\n",
              "      <td>AllPub</td>\n",
              "      <td>Inside</td>\n",
              "      <td>...</td>\n",
              "      <td>0</td>\n",
              "      <td>0</td>\n",
              "      <td>0</td>\n",
              "      <td>0</td>\n",
              "      <td>0</td>\n",
              "      <td>9</td>\n",
              "      <td>2008</td>\n",
              "      <td>WD</td>\n",
              "      <td>Normal</td>\n",
              "      <td>223500</td>\n",
              "    </tr>\n",
              "    <tr>\n",
              "      <th>3</th>\n",
              "      <td>4</td>\n",
              "      <td>70</td>\n",
              "      <td>RL</td>\n",
              "      <td>60.0</td>\n",
              "      <td>9550</td>\n",
              "      <td>Pave</td>\n",
              "      <td>IR1</td>\n",
              "      <td>Lvl</td>\n",
              "      <td>AllPub</td>\n",
              "      <td>Corner</td>\n",
              "      <td>...</td>\n",
              "      <td>272</td>\n",
              "      <td>0</td>\n",
              "      <td>0</td>\n",
              "      <td>0</td>\n",
              "      <td>0</td>\n",
              "      <td>2</td>\n",
              "      <td>2006</td>\n",
              "      <td>WD</td>\n",
              "      <td>Abnorml</td>\n",
              "      <td>140000</td>\n",
              "    </tr>\n",
              "    <tr>\n",
              "      <th>4</th>\n",
              "      <td>5</td>\n",
              "      <td>60</td>\n",
              "      <td>RL</td>\n",
              "      <td>84.0</td>\n",
              "      <td>14260</td>\n",
              "      <td>Pave</td>\n",
              "      <td>IR1</td>\n",
              "      <td>Lvl</td>\n",
              "      <td>AllPub</td>\n",
              "      <td>FR2</td>\n",
              "      <td>...</td>\n",
              "      <td>0</td>\n",
              "      <td>0</td>\n",
              "      <td>0</td>\n",
              "      <td>0</td>\n",
              "      <td>0</td>\n",
              "      <td>12</td>\n",
              "      <td>2008</td>\n",
              "      <td>WD</td>\n",
              "      <td>Normal</td>\n",
              "      <td>250000</td>\n",
              "    </tr>\n",
              "    <tr>\n",
              "      <th>5</th>\n",
              "      <td>6</td>\n",
              "      <td>50</td>\n",
              "      <td>RL</td>\n",
              "      <td>85.0</td>\n",
              "      <td>14115</td>\n",
              "      <td>Pave</td>\n",
              "      <td>IR1</td>\n",
              "      <td>Lvl</td>\n",
              "      <td>AllPub</td>\n",
              "      <td>Inside</td>\n",
              "      <td>...</td>\n",
              "      <td>0</td>\n",
              "      <td>320</td>\n",
              "      <td>0</td>\n",
              "      <td>0</td>\n",
              "      <td>700</td>\n",
              "      <td>10</td>\n",
              "      <td>2009</td>\n",
              "      <td>WD</td>\n",
              "      <td>Normal</td>\n",
              "      <td>143000</td>\n",
              "    </tr>\n",
              "    <tr>\n",
              "      <th>6</th>\n",
              "      <td>7</td>\n",
              "      <td>20</td>\n",
              "      <td>RL</td>\n",
              "      <td>75.0</td>\n",
              "      <td>10084</td>\n",
              "      <td>Pave</td>\n",
              "      <td>Reg</td>\n",
              "      <td>Lvl</td>\n",
              "      <td>AllPub</td>\n",
              "      <td>Inside</td>\n",
              "      <td>...</td>\n",
              "      <td>0</td>\n",
              "      <td>0</td>\n",
              "      <td>0</td>\n",
              "      <td>0</td>\n",
              "      <td>0</td>\n",
              "      <td>8</td>\n",
              "      <td>2007</td>\n",
              "      <td>WD</td>\n",
              "      <td>Normal</td>\n",
              "      <td>307000</td>\n",
              "    </tr>\n",
              "    <tr>\n",
              "      <th>7</th>\n",
              "      <td>8</td>\n",
              "      <td>60</td>\n",
              "      <td>RL</td>\n",
              "      <td>NaN</td>\n",
              "      <td>10382</td>\n",
              "      <td>Pave</td>\n",
              "      <td>IR1</td>\n",
              "      <td>Lvl</td>\n",
              "      <td>AllPub</td>\n",
              "      <td>Corner</td>\n",
              "      <td>...</td>\n",
              "      <td>228</td>\n",
              "      <td>0</td>\n",
              "      <td>0</td>\n",
              "      <td>0</td>\n",
              "      <td>350</td>\n",
              "      <td>11</td>\n",
              "      <td>2009</td>\n",
              "      <td>WD</td>\n",
              "      <td>Normal</td>\n",
              "      <td>200000</td>\n",
              "    </tr>\n",
              "    <tr>\n",
              "      <th>8</th>\n",
              "      <td>9</td>\n",
              "      <td>50</td>\n",
              "      <td>RM</td>\n",
              "      <td>51.0</td>\n",
              "      <td>6120</td>\n",
              "      <td>Pave</td>\n",
              "      <td>Reg</td>\n",
              "      <td>Lvl</td>\n",
              "      <td>AllPub</td>\n",
              "      <td>Inside</td>\n",
              "      <td>...</td>\n",
              "      <td>205</td>\n",
              "      <td>0</td>\n",
              "      <td>0</td>\n",
              "      <td>0</td>\n",
              "      <td>0</td>\n",
              "      <td>4</td>\n",
              "      <td>2008</td>\n",
              "      <td>WD</td>\n",
              "      <td>Abnorml</td>\n",
              "      <td>129900</td>\n",
              "    </tr>\n",
              "    <tr>\n",
              "      <th>9</th>\n",
              "      <td>10</td>\n",
              "      <td>190</td>\n",
              "      <td>RL</td>\n",
              "      <td>50.0</td>\n",
              "      <td>7420</td>\n",
              "      <td>Pave</td>\n",
              "      <td>Reg</td>\n",
              "      <td>Lvl</td>\n",
              "      <td>AllPub</td>\n",
              "      <td>Corner</td>\n",
              "      <td>...</td>\n",
              "      <td>0</td>\n",
              "      <td>0</td>\n",
              "      <td>0</td>\n",
              "      <td>0</td>\n",
              "      <td>0</td>\n",
              "      <td>1</td>\n",
              "      <td>2008</td>\n",
              "      <td>WD</td>\n",
              "      <td>Normal</td>\n",
              "      <td>118000</td>\n",
              "    </tr>\n",
              "  </tbody>\n",
              "</table>\n",
              "<p>10 rows × 77 columns</p>\n",
              "</div>\n",
              "      <button class=\"colab-df-convert\" onclick=\"convertToInteractive('df-5a465b66-b9d0-45b8-8b9b-a682c79de6da')\"\n",
              "              title=\"Convert this dataframe to an interactive table.\"\n",
              "              style=\"display:none;\">\n",
              "        \n",
              "  <svg xmlns=\"http://www.w3.org/2000/svg\" height=\"24px\"viewBox=\"0 0 24 24\"\n",
              "       width=\"24px\">\n",
              "    <path d=\"M0 0h24v24H0V0z\" fill=\"none\"/>\n",
              "    <path d=\"M18.56 5.44l.94 2.06.94-2.06 2.06-.94-2.06-.94-.94-2.06-.94 2.06-2.06.94zm-11 1L8.5 8.5l.94-2.06 2.06-.94-2.06-.94L8.5 2.5l-.94 2.06-2.06.94zm10 10l.94 2.06.94-2.06 2.06-.94-2.06-.94-.94-2.06-.94 2.06-2.06.94z\"/><path d=\"M17.41 7.96l-1.37-1.37c-.4-.4-.92-.59-1.43-.59-.52 0-1.04.2-1.43.59L10.3 9.45l-7.72 7.72c-.78.78-.78 2.05 0 2.83L4 21.41c.39.39.9.59 1.41.59.51 0 1.02-.2 1.41-.59l7.78-7.78 2.81-2.81c.8-.78.8-2.07 0-2.86zM5.41 20L4 18.59l7.72-7.72 1.47 1.35L5.41 20z\"/>\n",
              "  </svg>\n",
              "      </button>\n",
              "      \n",
              "  <style>\n",
              "    .colab-df-container {\n",
              "      display:flex;\n",
              "      flex-wrap:wrap;\n",
              "      gap: 12px;\n",
              "    }\n",
              "\n",
              "    .colab-df-convert {\n",
              "      background-color: #E8F0FE;\n",
              "      border: none;\n",
              "      border-radius: 50%;\n",
              "      cursor: pointer;\n",
              "      display: none;\n",
              "      fill: #1967D2;\n",
              "      height: 32px;\n",
              "      padding: 0 0 0 0;\n",
              "      width: 32px;\n",
              "    }\n",
              "\n",
              "    .colab-df-convert:hover {\n",
              "      background-color: #E2EBFA;\n",
              "      box-shadow: 0px 1px 2px rgba(60, 64, 67, 0.3), 0px 1px 3px 1px rgba(60, 64, 67, 0.15);\n",
              "      fill: #174EA6;\n",
              "    }\n",
              "\n",
              "    [theme=dark] .colab-df-convert {\n",
              "      background-color: #3B4455;\n",
              "      fill: #D2E3FC;\n",
              "    }\n",
              "\n",
              "    [theme=dark] .colab-df-convert:hover {\n",
              "      background-color: #434B5C;\n",
              "      box-shadow: 0px 1px 3px 1px rgba(0, 0, 0, 0.15);\n",
              "      filter: drop-shadow(0px 1px 2px rgba(0, 0, 0, 0.3));\n",
              "      fill: #FFFFFF;\n",
              "    }\n",
              "  </style>\n",
              "\n",
              "      <script>\n",
              "        const buttonEl =\n",
              "          document.querySelector('#df-5a465b66-b9d0-45b8-8b9b-a682c79de6da button.colab-df-convert');\n",
              "        buttonEl.style.display =\n",
              "          google.colab.kernel.accessAllowed ? 'block' : 'none';\n",
              "\n",
              "        async function convertToInteractive(key) {\n",
              "          const element = document.querySelector('#df-5a465b66-b9d0-45b8-8b9b-a682c79de6da');\n",
              "          const dataTable =\n",
              "            await google.colab.kernel.invokeFunction('convertToInteractive',\n",
              "                                                     [key], {});\n",
              "          if (!dataTable) return;\n",
              "\n",
              "          const docLinkHtml = 'Like what you see? Visit the ' +\n",
              "            '<a target=\"_blank\" href=https://colab.research.google.com/notebooks/data_table.ipynb>data table notebook</a>'\n",
              "            + ' to learn more about interactive tables.';\n",
              "          element.innerHTML = '';\n",
              "          dataTable['output_type'] = 'display_data';\n",
              "          await google.colab.output.renderOutput(dataTable, element);\n",
              "          const docLink = document.createElement('div');\n",
              "          docLink.innerHTML = docLinkHtml;\n",
              "          element.appendChild(docLink);\n",
              "        }\n",
              "      </script>\n",
              "    </div>\n",
              "  </div>\n",
              "  "
            ]
          },
          "metadata": {},
          "execution_count": 225
        }
      ]
    },
    {
      "cell_type": "code",
      "metadata": {
        "colab": {
          "base_uri": "https://localhost:8080/"
        },
        "id": "IxpsgOI7HZd7",
        "outputId": "d95db29b-74f8-46d3-fbbe-6e3c105e8c85"
      },
      "source": [
        "data.shape"
      ],
      "execution_count": 226,
      "outputs": [
        {
          "output_type": "execute_result",
          "data": {
            "text/plain": [
              "(1460, 77)"
            ]
          },
          "metadata": {},
          "execution_count": 226
        }
      ]
    },
    {
      "cell_type": "code",
      "metadata": {
        "id": "xBphL5QjHeUU"
      },
      "source": [
        "data.drop('Id',inplace=True,axis=1)"
      ],
      "execution_count": 227,
      "outputs": []
    },
    {
      "cell_type": "code",
      "metadata": {
        "colab": {
          "base_uri": "https://localhost:8080/",
          "height": 300
        },
        "id": "0O8TL2EqHxEb",
        "outputId": "f6851940-4176-45e1-e095-1aca6c26d38e"
      },
      "source": [
        "data.head(5)"
      ],
      "execution_count": 228,
      "outputs": [
        {
          "output_type": "execute_result",
          "data": {
            "text/plain": [
              "   MSSubClass MSZoning  LotFrontage  LotArea Street LotShape LandContour  \\\n",
              "0          60       RL         65.0     8450   Pave      Reg         Lvl   \n",
              "1          20       RL         80.0     9600   Pave      Reg         Lvl   \n",
              "2          60       RL         68.0    11250   Pave      IR1         Lvl   \n",
              "3          70       RL         60.0     9550   Pave      IR1         Lvl   \n",
              "4          60       RL         84.0    14260   Pave      IR1         Lvl   \n",
              "\n",
              "  Utilities LotConfig LandSlope  ... EnclosedPorch 3SsnPorch ScreenPorch  \\\n",
              "0    AllPub    Inside       Gtl  ...             0         0           0   \n",
              "1    AllPub       FR2       Gtl  ...             0         0           0   \n",
              "2    AllPub    Inside       Gtl  ...             0         0           0   \n",
              "3    AllPub    Corner       Gtl  ...           272         0           0   \n",
              "4    AllPub       FR2       Gtl  ...             0         0           0   \n",
              "\n",
              "  PoolArea MiscVal  MoSold  YrSold  SaleType  SaleCondition SalePrice  \n",
              "0        0       0       2    2008        WD         Normal    208500  \n",
              "1        0       0       5    2007        WD         Normal    181500  \n",
              "2        0       0       9    2008        WD         Normal    223500  \n",
              "3        0       0       2    2006        WD        Abnorml    140000  \n",
              "4        0       0      12    2008        WD         Normal    250000  \n",
              "\n",
              "[5 rows x 76 columns]"
            ],
            "text/html": [
              "\n",
              "  <div id=\"df-533cfd0b-3923-4c54-997d-546d7508a6c8\">\n",
              "    <div class=\"colab-df-container\">\n",
              "      <div>\n",
              "<style scoped>\n",
              "    .dataframe tbody tr th:only-of-type {\n",
              "        vertical-align: middle;\n",
              "    }\n",
              "\n",
              "    .dataframe tbody tr th {\n",
              "        vertical-align: top;\n",
              "    }\n",
              "\n",
              "    .dataframe thead th {\n",
              "        text-align: right;\n",
              "    }\n",
              "</style>\n",
              "<table border=\"1\" class=\"dataframe\">\n",
              "  <thead>\n",
              "    <tr style=\"text-align: right;\">\n",
              "      <th></th>\n",
              "      <th>MSSubClass</th>\n",
              "      <th>MSZoning</th>\n",
              "      <th>LotFrontage</th>\n",
              "      <th>LotArea</th>\n",
              "      <th>Street</th>\n",
              "      <th>LotShape</th>\n",
              "      <th>LandContour</th>\n",
              "      <th>Utilities</th>\n",
              "      <th>LotConfig</th>\n",
              "      <th>LandSlope</th>\n",
              "      <th>...</th>\n",
              "      <th>EnclosedPorch</th>\n",
              "      <th>3SsnPorch</th>\n",
              "      <th>ScreenPorch</th>\n",
              "      <th>PoolArea</th>\n",
              "      <th>MiscVal</th>\n",
              "      <th>MoSold</th>\n",
              "      <th>YrSold</th>\n",
              "      <th>SaleType</th>\n",
              "      <th>SaleCondition</th>\n",
              "      <th>SalePrice</th>\n",
              "    </tr>\n",
              "  </thead>\n",
              "  <tbody>\n",
              "    <tr>\n",
              "      <th>0</th>\n",
              "      <td>60</td>\n",
              "      <td>RL</td>\n",
              "      <td>65.0</td>\n",
              "      <td>8450</td>\n",
              "      <td>Pave</td>\n",
              "      <td>Reg</td>\n",
              "      <td>Lvl</td>\n",
              "      <td>AllPub</td>\n",
              "      <td>Inside</td>\n",
              "      <td>Gtl</td>\n",
              "      <td>...</td>\n",
              "      <td>0</td>\n",
              "      <td>0</td>\n",
              "      <td>0</td>\n",
              "      <td>0</td>\n",
              "      <td>0</td>\n",
              "      <td>2</td>\n",
              "      <td>2008</td>\n",
              "      <td>WD</td>\n",
              "      <td>Normal</td>\n",
              "      <td>208500</td>\n",
              "    </tr>\n",
              "    <tr>\n",
              "      <th>1</th>\n",
              "      <td>20</td>\n",
              "      <td>RL</td>\n",
              "      <td>80.0</td>\n",
              "      <td>9600</td>\n",
              "      <td>Pave</td>\n",
              "      <td>Reg</td>\n",
              "      <td>Lvl</td>\n",
              "      <td>AllPub</td>\n",
              "      <td>FR2</td>\n",
              "      <td>Gtl</td>\n",
              "      <td>...</td>\n",
              "      <td>0</td>\n",
              "      <td>0</td>\n",
              "      <td>0</td>\n",
              "      <td>0</td>\n",
              "      <td>0</td>\n",
              "      <td>5</td>\n",
              "      <td>2007</td>\n",
              "      <td>WD</td>\n",
              "      <td>Normal</td>\n",
              "      <td>181500</td>\n",
              "    </tr>\n",
              "    <tr>\n",
              "      <th>2</th>\n",
              "      <td>60</td>\n",
              "      <td>RL</td>\n",
              "      <td>68.0</td>\n",
              "      <td>11250</td>\n",
              "      <td>Pave</td>\n",
              "      <td>IR1</td>\n",
              "      <td>Lvl</td>\n",
              "      <td>AllPub</td>\n",
              "      <td>Inside</td>\n",
              "      <td>Gtl</td>\n",
              "      <td>...</td>\n",
              "      <td>0</td>\n",
              "      <td>0</td>\n",
              "      <td>0</td>\n",
              "      <td>0</td>\n",
              "      <td>0</td>\n",
              "      <td>9</td>\n",
              "      <td>2008</td>\n",
              "      <td>WD</td>\n",
              "      <td>Normal</td>\n",
              "      <td>223500</td>\n",
              "    </tr>\n",
              "    <tr>\n",
              "      <th>3</th>\n",
              "      <td>70</td>\n",
              "      <td>RL</td>\n",
              "      <td>60.0</td>\n",
              "      <td>9550</td>\n",
              "      <td>Pave</td>\n",
              "      <td>IR1</td>\n",
              "      <td>Lvl</td>\n",
              "      <td>AllPub</td>\n",
              "      <td>Corner</td>\n",
              "      <td>Gtl</td>\n",
              "      <td>...</td>\n",
              "      <td>272</td>\n",
              "      <td>0</td>\n",
              "      <td>0</td>\n",
              "      <td>0</td>\n",
              "      <td>0</td>\n",
              "      <td>2</td>\n",
              "      <td>2006</td>\n",
              "      <td>WD</td>\n",
              "      <td>Abnorml</td>\n",
              "      <td>140000</td>\n",
              "    </tr>\n",
              "    <tr>\n",
              "      <th>4</th>\n",
              "      <td>60</td>\n",
              "      <td>RL</td>\n",
              "      <td>84.0</td>\n",
              "      <td>14260</td>\n",
              "      <td>Pave</td>\n",
              "      <td>IR1</td>\n",
              "      <td>Lvl</td>\n",
              "      <td>AllPub</td>\n",
              "      <td>FR2</td>\n",
              "      <td>Gtl</td>\n",
              "      <td>...</td>\n",
              "      <td>0</td>\n",
              "      <td>0</td>\n",
              "      <td>0</td>\n",
              "      <td>0</td>\n",
              "      <td>0</td>\n",
              "      <td>12</td>\n",
              "      <td>2008</td>\n",
              "      <td>WD</td>\n",
              "      <td>Normal</td>\n",
              "      <td>250000</td>\n",
              "    </tr>\n",
              "  </tbody>\n",
              "</table>\n",
              "<p>5 rows × 76 columns</p>\n",
              "</div>\n",
              "      <button class=\"colab-df-convert\" onclick=\"convertToInteractive('df-533cfd0b-3923-4c54-997d-546d7508a6c8')\"\n",
              "              title=\"Convert this dataframe to an interactive table.\"\n",
              "              style=\"display:none;\">\n",
              "        \n",
              "  <svg xmlns=\"http://www.w3.org/2000/svg\" height=\"24px\"viewBox=\"0 0 24 24\"\n",
              "       width=\"24px\">\n",
              "    <path d=\"M0 0h24v24H0V0z\" fill=\"none\"/>\n",
              "    <path d=\"M18.56 5.44l.94 2.06.94-2.06 2.06-.94-2.06-.94-.94-2.06-.94 2.06-2.06.94zm-11 1L8.5 8.5l.94-2.06 2.06-.94-2.06-.94L8.5 2.5l-.94 2.06-2.06.94zm10 10l.94 2.06.94-2.06 2.06-.94-2.06-.94-.94-2.06-.94 2.06-2.06.94z\"/><path d=\"M17.41 7.96l-1.37-1.37c-.4-.4-.92-.59-1.43-.59-.52 0-1.04.2-1.43.59L10.3 9.45l-7.72 7.72c-.78.78-.78 2.05 0 2.83L4 21.41c.39.39.9.59 1.41.59.51 0 1.02-.2 1.41-.59l7.78-7.78 2.81-2.81c.8-.78.8-2.07 0-2.86zM5.41 20L4 18.59l7.72-7.72 1.47 1.35L5.41 20z\"/>\n",
              "  </svg>\n",
              "      </button>\n",
              "      \n",
              "  <style>\n",
              "    .colab-df-container {\n",
              "      display:flex;\n",
              "      flex-wrap:wrap;\n",
              "      gap: 12px;\n",
              "    }\n",
              "\n",
              "    .colab-df-convert {\n",
              "      background-color: #E8F0FE;\n",
              "      border: none;\n",
              "      border-radius: 50%;\n",
              "      cursor: pointer;\n",
              "      display: none;\n",
              "      fill: #1967D2;\n",
              "      height: 32px;\n",
              "      padding: 0 0 0 0;\n",
              "      width: 32px;\n",
              "    }\n",
              "\n",
              "    .colab-df-convert:hover {\n",
              "      background-color: #E2EBFA;\n",
              "      box-shadow: 0px 1px 2px rgba(60, 64, 67, 0.3), 0px 1px 3px 1px rgba(60, 64, 67, 0.15);\n",
              "      fill: #174EA6;\n",
              "    }\n",
              "\n",
              "    [theme=dark] .colab-df-convert {\n",
              "      background-color: #3B4455;\n",
              "      fill: #D2E3FC;\n",
              "    }\n",
              "\n",
              "    [theme=dark] .colab-df-convert:hover {\n",
              "      background-color: #434B5C;\n",
              "      box-shadow: 0px 1px 3px 1px rgba(0, 0, 0, 0.15);\n",
              "      filter: drop-shadow(0px 1px 2px rgba(0, 0, 0, 0.3));\n",
              "      fill: #FFFFFF;\n",
              "    }\n",
              "  </style>\n",
              "\n",
              "      <script>\n",
              "        const buttonEl =\n",
              "          document.querySelector('#df-533cfd0b-3923-4c54-997d-546d7508a6c8 button.colab-df-convert');\n",
              "        buttonEl.style.display =\n",
              "          google.colab.kernel.accessAllowed ? 'block' : 'none';\n",
              "\n",
              "        async function convertToInteractive(key) {\n",
              "          const element = document.querySelector('#df-533cfd0b-3923-4c54-997d-546d7508a6c8');\n",
              "          const dataTable =\n",
              "            await google.colab.kernel.invokeFunction('convertToInteractive',\n",
              "                                                     [key], {});\n",
              "          if (!dataTable) return;\n",
              "\n",
              "          const docLinkHtml = 'Like what you see? Visit the ' +\n",
              "            '<a target=\"_blank\" href=https://colab.research.google.com/notebooks/data_table.ipynb>data table notebook</a>'\n",
              "            + ' to learn more about interactive tables.';\n",
              "          element.innerHTML = '';\n",
              "          dataTable['output_type'] = 'display_data';\n",
              "          await google.colab.output.renderOutput(dataTable, element);\n",
              "          const docLink = document.createElement('div');\n",
              "          docLink.innerHTML = docLinkHtml;\n",
              "          element.appendChild(docLink);\n",
              "        }\n",
              "      </script>\n",
              "    </div>\n",
              "  </div>\n",
              "  "
            ]
          },
          "metadata": {},
          "execution_count": 228
        }
      ]
    },
    {
      "cell_type": "code",
      "metadata": {
        "colab": {
          "base_uri": "https://localhost:8080/"
        },
        "id": "fXKd0pJeHyvJ",
        "outputId": "db1f08a2-63b2-4ae6-bce9-9a40ce0d4f1a"
      },
      "source": [
        "original_features=list(data.columns)\n",
        "len(original_features)"
      ],
      "execution_count": 229,
      "outputs": [
        {
          "output_type": "execute_result",
          "data": {
            "text/plain": [
              "76"
            ]
          },
          "metadata": {},
          "execution_count": 229
        }
      ]
    },
    {
      "cell_type": "code",
      "metadata": {
        "colab": {
          "base_uri": "https://localhost:8080/"
        },
        "id": "-oAnqVuLIF5m",
        "outputId": "f7bf1940-c2e2-4b1e-9613-eee7c1205ef9"
      },
      "source": [
        "features_missing_values=list(data.columns[data.isna().any()])\n",
        "len(features_missing_values)"
      ],
      "execution_count": 230,
      "outputs": [
        {
          "output_type": "execute_result",
          "data": {
            "text/plain": [
              "15"
            ]
          },
          "metadata": {},
          "execution_count": 230
        }
      ]
    },
    {
      "cell_type": "code",
      "metadata": {
        "colab": {
          "base_uri": "https://localhost:8080/"
        },
        "id": "YsRu2BYmJOu1",
        "outputId": "88675c0c-f357-4e95-d134-9dcbc837d36b"
      },
      "source": [
        "len(data)"
      ],
      "execution_count": 231,
      "outputs": [
        {
          "output_type": "execute_result",
          "data": {
            "text/plain": [
              "1460"
            ]
          },
          "metadata": {},
          "execution_count": 231
        }
      ]
    },
    {
      "cell_type": "markdown",
      "metadata": {
        "id": "SG8UoVOqPcwp"
      },
      "source": [
        "# Fill in Missing Features"
      ]
    },
    {
      "cell_type": "code",
      "metadata": {
        "id": "kCE41DuSKmWp"
      },
      "source": [
        "bfill,mean_fill=[],[]"
      ],
      "execution_count": 232,
      "outputs": []
    },
    {
      "cell_type": "code",
      "metadata": {
        "id": "zT0VmWr2H8_7",
        "colab": {
          "base_uri": "https://localhost:8080/"
        },
        "outputId": "77a75a4c-d06d-4d3a-e0b2-662068433646"
      },
      "source": [
        "for feature in features_missing_values:\n",
        "  print(feature,' ',data[feature].isna().sum()/len(data)*100,' ',data[feature].dtype)\n",
        "  if data[feature].dtype=='float64':\n",
        "    mean_fill.append(feature)\n",
        "  else:\n",
        "    bfill.append(feature)"
      ],
      "execution_count": 233,
      "outputs": [
        {
          "output_type": "stream",
          "name": "stdout",
          "text": [
            "LotFrontage   17.73972602739726   float64\n",
            "MasVnrType   0.547945205479452   object\n",
            "MasVnrArea   0.547945205479452   float64\n",
            "BsmtQual   2.5342465753424657   object\n",
            "BsmtCond   2.5342465753424657   object\n",
            "BsmtExposure   2.6027397260273974   object\n",
            "BsmtFinType1   2.5342465753424657   object\n",
            "BsmtFinType2   2.6027397260273974   object\n",
            "Electrical   0.0684931506849315   object\n",
            "FireplaceQu   47.26027397260274   object\n",
            "GarageType   5.5479452054794525   object\n",
            "GarageYrBlt   5.5479452054794525   float64\n",
            "GarageFinish   5.5479452054794525   object\n",
            "GarageQual   5.5479452054794525   object\n",
            "GarageCond   5.5479452054794525   object\n"
          ]
        }
      ]
    },
    {
      "cell_type": "code",
      "source": [
        "bfill"
      ],
      "metadata": {
        "colab": {
          "base_uri": "https://localhost:8080/"
        },
        "id": "TNIqGLHU4orR",
        "outputId": "6e850ec9-0380-42d8-f4bd-98bbbbac2e35"
      },
      "execution_count": 234,
      "outputs": [
        {
          "output_type": "execute_result",
          "data": {
            "text/plain": [
              "['MasVnrType',\n",
              " 'BsmtQual',\n",
              " 'BsmtCond',\n",
              " 'BsmtExposure',\n",
              " 'BsmtFinType1',\n",
              " 'BsmtFinType2',\n",
              " 'Electrical',\n",
              " 'FireplaceQu',\n",
              " 'GarageType',\n",
              " 'GarageFinish',\n",
              " 'GarageQual',\n",
              " 'GarageCond']"
            ]
          },
          "metadata": {},
          "execution_count": 234
        }
      ]
    },
    {
      "cell_type": "code",
      "metadata": {
        "colab": {
          "base_uri": "https://localhost:8080/"
        },
        "id": "y25NfqmoJ6RI",
        "outputId": "b5880d7f-a5f2-4390-e409-764cefe687b7"
      },
      "source": [
        "mean_fill"
      ],
      "execution_count": 235,
      "outputs": [
        {
          "output_type": "execute_result",
          "data": {
            "text/plain": [
              "['LotFrontage', 'MasVnrArea', 'GarageYrBlt']"
            ]
          },
          "metadata": {},
          "execution_count": 235
        }
      ]
    },
    {
      "cell_type": "code",
      "metadata": {
        "id": "KQW9dCMmKxee"
      },
      "source": [
        "for feature in mean_fill:\n",
        "  data[feature].fillna(data[feature].mean(),inplace=True)"
      ],
      "execution_count": 236,
      "outputs": []
    },
    {
      "cell_type": "code",
      "metadata": {
        "id": "9Sx6f2HNK_5v"
      },
      "source": [
        "for feature in bfill:\n",
        "  data[feature].fillna(method='bfill',inplace=True)"
      ],
      "execution_count": 237,
      "outputs": []
    },
    {
      "cell_type": "code",
      "metadata": {
        "colab": {
          "base_uri": "https://localhost:8080/"
        },
        "id": "EGLomTfrLJ5w",
        "outputId": "6d36fb05-58e4-4eda-efe3-599a5a903b22"
      },
      "source": [
        "data.columns[data.isna().any()]"
      ],
      "execution_count": 238,
      "outputs": [
        {
          "output_type": "execute_result",
          "data": {
            "text/plain": [
              "Index(['FireplaceQu'], dtype='object')"
            ]
          },
          "metadata": {},
          "execution_count": 238
        }
      ]
    },
    {
      "cell_type": "code",
      "metadata": {
        "colab": {
          "base_uri": "https://localhost:8080/"
        },
        "id": "HZ1QKcdeLTm5",
        "outputId": "e7df3509-fe5b-4a36-99ed-be84b074c4e9"
      },
      "source": [
        "data['GarageCond'].isna().sum()"
      ],
      "execution_count": 239,
      "outputs": [
        {
          "output_type": "execute_result",
          "data": {
            "text/plain": [
              "0"
            ]
          },
          "metadata": {},
          "execution_count": 239
        }
      ]
    },
    {
      "cell_type": "code",
      "source": [
        "data['MasVnrArea'].isna().sum()"
      ],
      "metadata": {
        "colab": {
          "base_uri": "https://localhost:8080/"
        },
        "id": "rS98a3nn513c",
        "outputId": "93205498-19c1-4150-eec5-a4f5a5a94419"
      },
      "execution_count": 240,
      "outputs": [
        {
          "output_type": "execute_result",
          "data": {
            "text/plain": [
              "0"
            ]
          },
          "metadata": {},
          "execution_count": 240
        }
      ]
    },
    {
      "cell_type": "code",
      "metadata": {
        "id": "Yho-jIdzLcRB"
      },
      "source": [
        "data['GarageCond'].fillna(method='ffill',inplace=True)"
      ],
      "execution_count": 241,
      "outputs": []
    },
    {
      "cell_type": "markdown",
      "source": [
        ""
      ],
      "metadata": {
        "id": "_YAYYtzg5OiR"
      }
    },
    {
      "cell_type": "markdown",
      "metadata": {
        "id": "jyzvz4xEPhjO"
      },
      "source": [
        "# Encode the Dataset"
      ]
    },
    {
      "cell_type": "code",
      "metadata": {
        "id": "4qWT-1D_L2V3",
        "colab": {
          "base_uri": "https://localhost:8080/"
        },
        "outputId": "2422bd3c-aeae-40e6-ff25-1a19f4e44161"
      },
      "source": [
        "categorical_features=list(data.select_dtypes(include=['object']).columns)\n",
        "categorical_features"
      ],
      "execution_count": 242,
      "outputs": [
        {
          "output_type": "execute_result",
          "data": {
            "text/plain": [
              "['MSZoning',\n",
              " 'Street',\n",
              " 'LotShape',\n",
              " 'LandContour',\n",
              " 'Utilities',\n",
              " 'LotConfig',\n",
              " 'LandSlope',\n",
              " 'Neighborhood',\n",
              " 'Condition1',\n",
              " 'Condition2',\n",
              " 'BldgType',\n",
              " 'HouseStyle',\n",
              " 'RoofStyle',\n",
              " 'RoofMatl',\n",
              " 'Exterior1st',\n",
              " 'Exterior2nd',\n",
              " 'MasVnrType',\n",
              " 'ExterQual',\n",
              " 'ExterCond',\n",
              " 'Foundation',\n",
              " 'BsmtQual',\n",
              " 'BsmtCond',\n",
              " 'BsmtExposure',\n",
              " 'BsmtFinType1',\n",
              " 'BsmtFinType2',\n",
              " 'Heating',\n",
              " 'HeatingQC',\n",
              " 'CentralAir',\n",
              " 'Electrical',\n",
              " 'KitchenQual',\n",
              " 'Functional',\n",
              " 'FireplaceQu',\n",
              " 'GarageType',\n",
              " 'GarageFinish',\n",
              " 'GarageQual',\n",
              " 'GarageCond',\n",
              " 'PavedDrive',\n",
              " 'SaleType',\n",
              " 'SaleCondition']"
            ]
          },
          "metadata": {},
          "execution_count": 242
        }
      ]
    },
    {
      "cell_type": "code",
      "metadata": {
        "id": "EsT2Y4Z0M71C",
        "colab": {
          "base_uri": "https://localhost:8080/"
        },
        "outputId": "e3253299-6c7b-43fc-fa14-624d7a0887b0"
      },
      "source": [
        "numerical=list(set(original_features)-set(categorical_features))\n",
        "numerical"
      ],
      "execution_count": 243,
      "outputs": [
        {
          "output_type": "execute_result",
          "data": {
            "text/plain": [
              "['MasVnrArea',\n",
              " 'EnclosedPorch',\n",
              " '2ndFlrSF',\n",
              " 'BsmtFinSF1',\n",
              " 'LotArea',\n",
              " 'OverallQual',\n",
              " 'WoodDeckSF',\n",
              " 'BsmtUnfSF',\n",
              " 'MoSold',\n",
              " 'MiscVal',\n",
              " 'Fireplaces',\n",
              " 'BsmtHalfBath',\n",
              " 'YrSold',\n",
              " 'GarageArea',\n",
              " 'KitchenAbvGr',\n",
              " 'FullBath',\n",
              " 'LowQualFinSF',\n",
              " 'MSSubClass',\n",
              " 'GarageCars',\n",
              " 'TotalBsmtSF',\n",
              " 'BsmtFinSF2',\n",
              " 'SalePrice',\n",
              " 'LotFrontage',\n",
              " 'ScreenPorch',\n",
              " 'YearRemodAdd',\n",
              " 'GrLivArea',\n",
              " 'BsmtFullBath',\n",
              " 'OverallCond',\n",
              " 'HalfBath',\n",
              " 'GarageYrBlt',\n",
              " '3SsnPorch',\n",
              " 'YearBuilt',\n",
              " '1stFlrSF',\n",
              " 'BedroomAbvGr',\n",
              " 'PoolArea',\n",
              " 'OpenPorchSF',\n",
              " 'TotRmsAbvGrd']"
            ]
          },
          "metadata": {},
          "execution_count": 243
        }
      ]
    },
    {
      "cell_type": "code",
      "metadata": {
        "id": "kM-GRn7aMvyv"
      },
      "source": [
        "nominal=['MSZoning','LandContour','Neighborhood']\n",
        "ordinal=list(set(categorical_features)-set(nominal))"
      ],
      "execution_count": 244,
      "outputs": []
    },
    {
      "cell_type": "code",
      "metadata": {
        "id": "b2TUXbefNp0c"
      },
      "source": [
        "target=['SalePrice']"
      ],
      "execution_count": 245,
      "outputs": []
    },
    {
      "cell_type": "code",
      "metadata": {
        "id": "yFohCKevNuqT"
      },
      "source": [
        "df_nominal=pd.get_dummies(data[nominal])"
      ],
      "execution_count": 246,
      "outputs": []
    },
    {
      "cell_type": "code",
      "metadata": {
        "id": "L7Hr2qrKOCsF"
      },
      "source": [
        "for feature in ordinal:\n",
        "  data[feature]=data[feature].astype('category').cat.codes\n",
        "\n",
        "df_ordinal=data[ordinal]"
      ],
      "execution_count": 247,
      "outputs": []
    },
    {
      "cell_type": "code",
      "metadata": {
        "id": "rIB43vbzOlRa",
        "colab": {
          "base_uri": "https://localhost:8080/",
          "height": 488
        },
        "outputId": "82eb57f6-43fb-418f-f7a8-6dc7d9f90f6d"
      },
      "source": [
        "data[numerical]"
      ],
      "execution_count": 248,
      "outputs": [
        {
          "output_type": "execute_result",
          "data": {
            "text/plain": [
              "      MasVnrArea  EnclosedPorch  2ndFlrSF  BsmtFinSF1  LotArea  OverallQual  \\\n",
              "0          196.0              0       854         706     8450            7   \n",
              "1            0.0              0         0         978     9600            6   \n",
              "2          162.0              0       866         486    11250            7   \n",
              "3            0.0            272       756         216     9550            7   \n",
              "4          350.0              0      1053         655    14260            8   \n",
              "...          ...            ...       ...         ...      ...          ...   \n",
              "1455         0.0              0       694           0     7917            6   \n",
              "1456       119.0              0         0         790    13175            6   \n",
              "1457         0.0              0      1152         275     9042            7   \n",
              "1458         0.0            112         0          49     9717            5   \n",
              "1459         0.0              0         0         830     9937            5   \n",
              "\n",
              "      WoodDeckSF  BsmtUnfSF  MoSold  MiscVal  ...  OverallCond  HalfBath  \\\n",
              "0              0        150       2        0  ...            5         1   \n",
              "1            298        284       5        0  ...            8         0   \n",
              "2              0        434       9        0  ...            5         1   \n",
              "3              0        540       2        0  ...            5         0   \n",
              "4            192        490      12        0  ...            5         1   \n",
              "...          ...        ...     ...      ...  ...          ...       ...   \n",
              "1455           0        953       8        0  ...            5         1   \n",
              "1456         349        589       2        0  ...            6         0   \n",
              "1457           0        877       5     2500  ...            9         0   \n",
              "1458         366          0       4        0  ...            6         0   \n",
              "1459         736        136       6        0  ...            6         1   \n",
              "\n",
              "      GarageYrBlt  3SsnPorch  YearBuilt  1stFlrSF  BedroomAbvGr  PoolArea  \\\n",
              "0          2003.0          0       2003       856             3         0   \n",
              "1          1976.0          0       1976      1262             3         0   \n",
              "2          2001.0          0       2001       920             3         0   \n",
              "3          1998.0          0       1915       961             3         0   \n",
              "4          2000.0          0       2000      1145             4         0   \n",
              "...           ...        ...        ...       ...           ...       ...   \n",
              "1455       1999.0          0       1999       953             3         0   \n",
              "1456       1978.0          0       1978      2073             3         0   \n",
              "1457       1941.0          0       1941      1188             4         0   \n",
              "1458       1950.0          0       1950      1078             2         0   \n",
              "1459       1965.0          0       1965      1256             3         0   \n",
              "\n",
              "      OpenPorchSF  TotRmsAbvGrd  \n",
              "0              61             8  \n",
              "1               0             6  \n",
              "2              42             6  \n",
              "3              35             7  \n",
              "4              84             9  \n",
              "...           ...           ...  \n",
              "1455           40             7  \n",
              "1456            0             7  \n",
              "1457           60             9  \n",
              "1458            0             5  \n",
              "1459           68             6  \n",
              "\n",
              "[1460 rows x 37 columns]"
            ],
            "text/html": [
              "\n",
              "  <div id=\"df-2a6c6e17-df97-4dc4-be4c-1fe5dde83255\">\n",
              "    <div class=\"colab-df-container\">\n",
              "      <div>\n",
              "<style scoped>\n",
              "    .dataframe tbody tr th:only-of-type {\n",
              "        vertical-align: middle;\n",
              "    }\n",
              "\n",
              "    .dataframe tbody tr th {\n",
              "        vertical-align: top;\n",
              "    }\n",
              "\n",
              "    .dataframe thead th {\n",
              "        text-align: right;\n",
              "    }\n",
              "</style>\n",
              "<table border=\"1\" class=\"dataframe\">\n",
              "  <thead>\n",
              "    <tr style=\"text-align: right;\">\n",
              "      <th></th>\n",
              "      <th>MasVnrArea</th>\n",
              "      <th>EnclosedPorch</th>\n",
              "      <th>2ndFlrSF</th>\n",
              "      <th>BsmtFinSF1</th>\n",
              "      <th>LotArea</th>\n",
              "      <th>OverallQual</th>\n",
              "      <th>WoodDeckSF</th>\n",
              "      <th>BsmtUnfSF</th>\n",
              "      <th>MoSold</th>\n",
              "      <th>MiscVal</th>\n",
              "      <th>...</th>\n",
              "      <th>OverallCond</th>\n",
              "      <th>HalfBath</th>\n",
              "      <th>GarageYrBlt</th>\n",
              "      <th>3SsnPorch</th>\n",
              "      <th>YearBuilt</th>\n",
              "      <th>1stFlrSF</th>\n",
              "      <th>BedroomAbvGr</th>\n",
              "      <th>PoolArea</th>\n",
              "      <th>OpenPorchSF</th>\n",
              "      <th>TotRmsAbvGrd</th>\n",
              "    </tr>\n",
              "  </thead>\n",
              "  <tbody>\n",
              "    <tr>\n",
              "      <th>0</th>\n",
              "      <td>196.0</td>\n",
              "      <td>0</td>\n",
              "      <td>854</td>\n",
              "      <td>706</td>\n",
              "      <td>8450</td>\n",
              "      <td>7</td>\n",
              "      <td>0</td>\n",
              "      <td>150</td>\n",
              "      <td>2</td>\n",
              "      <td>0</td>\n",
              "      <td>...</td>\n",
              "      <td>5</td>\n",
              "      <td>1</td>\n",
              "      <td>2003.0</td>\n",
              "      <td>0</td>\n",
              "      <td>2003</td>\n",
              "      <td>856</td>\n",
              "      <td>3</td>\n",
              "      <td>0</td>\n",
              "      <td>61</td>\n",
              "      <td>8</td>\n",
              "    </tr>\n",
              "    <tr>\n",
              "      <th>1</th>\n",
              "      <td>0.0</td>\n",
              "      <td>0</td>\n",
              "      <td>0</td>\n",
              "      <td>978</td>\n",
              "      <td>9600</td>\n",
              "      <td>6</td>\n",
              "      <td>298</td>\n",
              "      <td>284</td>\n",
              "      <td>5</td>\n",
              "      <td>0</td>\n",
              "      <td>...</td>\n",
              "      <td>8</td>\n",
              "      <td>0</td>\n",
              "      <td>1976.0</td>\n",
              "      <td>0</td>\n",
              "      <td>1976</td>\n",
              "      <td>1262</td>\n",
              "      <td>3</td>\n",
              "      <td>0</td>\n",
              "      <td>0</td>\n",
              "      <td>6</td>\n",
              "    </tr>\n",
              "    <tr>\n",
              "      <th>2</th>\n",
              "      <td>162.0</td>\n",
              "      <td>0</td>\n",
              "      <td>866</td>\n",
              "      <td>486</td>\n",
              "      <td>11250</td>\n",
              "      <td>7</td>\n",
              "      <td>0</td>\n",
              "      <td>434</td>\n",
              "      <td>9</td>\n",
              "      <td>0</td>\n",
              "      <td>...</td>\n",
              "      <td>5</td>\n",
              "      <td>1</td>\n",
              "      <td>2001.0</td>\n",
              "      <td>0</td>\n",
              "      <td>2001</td>\n",
              "      <td>920</td>\n",
              "      <td>3</td>\n",
              "      <td>0</td>\n",
              "      <td>42</td>\n",
              "      <td>6</td>\n",
              "    </tr>\n",
              "    <tr>\n",
              "      <th>3</th>\n",
              "      <td>0.0</td>\n",
              "      <td>272</td>\n",
              "      <td>756</td>\n",
              "      <td>216</td>\n",
              "      <td>9550</td>\n",
              "      <td>7</td>\n",
              "      <td>0</td>\n",
              "      <td>540</td>\n",
              "      <td>2</td>\n",
              "      <td>0</td>\n",
              "      <td>...</td>\n",
              "      <td>5</td>\n",
              "      <td>0</td>\n",
              "      <td>1998.0</td>\n",
              "      <td>0</td>\n",
              "      <td>1915</td>\n",
              "      <td>961</td>\n",
              "      <td>3</td>\n",
              "      <td>0</td>\n",
              "      <td>35</td>\n",
              "      <td>7</td>\n",
              "    </tr>\n",
              "    <tr>\n",
              "      <th>4</th>\n",
              "      <td>350.0</td>\n",
              "      <td>0</td>\n",
              "      <td>1053</td>\n",
              "      <td>655</td>\n",
              "      <td>14260</td>\n",
              "      <td>8</td>\n",
              "      <td>192</td>\n",
              "      <td>490</td>\n",
              "      <td>12</td>\n",
              "      <td>0</td>\n",
              "      <td>...</td>\n",
              "      <td>5</td>\n",
              "      <td>1</td>\n",
              "      <td>2000.0</td>\n",
              "      <td>0</td>\n",
              "      <td>2000</td>\n",
              "      <td>1145</td>\n",
              "      <td>4</td>\n",
              "      <td>0</td>\n",
              "      <td>84</td>\n",
              "      <td>9</td>\n",
              "    </tr>\n",
              "    <tr>\n",
              "      <th>...</th>\n",
              "      <td>...</td>\n",
              "      <td>...</td>\n",
              "      <td>...</td>\n",
              "      <td>...</td>\n",
              "      <td>...</td>\n",
              "      <td>...</td>\n",
              "      <td>...</td>\n",
              "      <td>...</td>\n",
              "      <td>...</td>\n",
              "      <td>...</td>\n",
              "      <td>...</td>\n",
              "      <td>...</td>\n",
              "      <td>...</td>\n",
              "      <td>...</td>\n",
              "      <td>...</td>\n",
              "      <td>...</td>\n",
              "      <td>...</td>\n",
              "      <td>...</td>\n",
              "      <td>...</td>\n",
              "      <td>...</td>\n",
              "      <td>...</td>\n",
              "    </tr>\n",
              "    <tr>\n",
              "      <th>1455</th>\n",
              "      <td>0.0</td>\n",
              "      <td>0</td>\n",
              "      <td>694</td>\n",
              "      <td>0</td>\n",
              "      <td>7917</td>\n",
              "      <td>6</td>\n",
              "      <td>0</td>\n",
              "      <td>953</td>\n",
              "      <td>8</td>\n",
              "      <td>0</td>\n",
              "      <td>...</td>\n",
              "      <td>5</td>\n",
              "      <td>1</td>\n",
              "      <td>1999.0</td>\n",
              "      <td>0</td>\n",
              "      <td>1999</td>\n",
              "      <td>953</td>\n",
              "      <td>3</td>\n",
              "      <td>0</td>\n",
              "      <td>40</td>\n",
              "      <td>7</td>\n",
              "    </tr>\n",
              "    <tr>\n",
              "      <th>1456</th>\n",
              "      <td>119.0</td>\n",
              "      <td>0</td>\n",
              "      <td>0</td>\n",
              "      <td>790</td>\n",
              "      <td>13175</td>\n",
              "      <td>6</td>\n",
              "      <td>349</td>\n",
              "      <td>589</td>\n",
              "      <td>2</td>\n",
              "      <td>0</td>\n",
              "      <td>...</td>\n",
              "      <td>6</td>\n",
              "      <td>0</td>\n",
              "      <td>1978.0</td>\n",
              "      <td>0</td>\n",
              "      <td>1978</td>\n",
              "      <td>2073</td>\n",
              "      <td>3</td>\n",
              "      <td>0</td>\n",
              "      <td>0</td>\n",
              "      <td>7</td>\n",
              "    </tr>\n",
              "    <tr>\n",
              "      <th>1457</th>\n",
              "      <td>0.0</td>\n",
              "      <td>0</td>\n",
              "      <td>1152</td>\n",
              "      <td>275</td>\n",
              "      <td>9042</td>\n",
              "      <td>7</td>\n",
              "      <td>0</td>\n",
              "      <td>877</td>\n",
              "      <td>5</td>\n",
              "      <td>2500</td>\n",
              "      <td>...</td>\n",
              "      <td>9</td>\n",
              "      <td>0</td>\n",
              "      <td>1941.0</td>\n",
              "      <td>0</td>\n",
              "      <td>1941</td>\n",
              "      <td>1188</td>\n",
              "      <td>4</td>\n",
              "      <td>0</td>\n",
              "      <td>60</td>\n",
              "      <td>9</td>\n",
              "    </tr>\n",
              "    <tr>\n",
              "      <th>1458</th>\n",
              "      <td>0.0</td>\n",
              "      <td>112</td>\n",
              "      <td>0</td>\n",
              "      <td>49</td>\n",
              "      <td>9717</td>\n",
              "      <td>5</td>\n",
              "      <td>366</td>\n",
              "      <td>0</td>\n",
              "      <td>4</td>\n",
              "      <td>0</td>\n",
              "      <td>...</td>\n",
              "      <td>6</td>\n",
              "      <td>0</td>\n",
              "      <td>1950.0</td>\n",
              "      <td>0</td>\n",
              "      <td>1950</td>\n",
              "      <td>1078</td>\n",
              "      <td>2</td>\n",
              "      <td>0</td>\n",
              "      <td>0</td>\n",
              "      <td>5</td>\n",
              "    </tr>\n",
              "    <tr>\n",
              "      <th>1459</th>\n",
              "      <td>0.0</td>\n",
              "      <td>0</td>\n",
              "      <td>0</td>\n",
              "      <td>830</td>\n",
              "      <td>9937</td>\n",
              "      <td>5</td>\n",
              "      <td>736</td>\n",
              "      <td>136</td>\n",
              "      <td>6</td>\n",
              "      <td>0</td>\n",
              "      <td>...</td>\n",
              "      <td>6</td>\n",
              "      <td>1</td>\n",
              "      <td>1965.0</td>\n",
              "      <td>0</td>\n",
              "      <td>1965</td>\n",
              "      <td>1256</td>\n",
              "      <td>3</td>\n",
              "      <td>0</td>\n",
              "      <td>68</td>\n",
              "      <td>6</td>\n",
              "    </tr>\n",
              "  </tbody>\n",
              "</table>\n",
              "<p>1460 rows × 37 columns</p>\n",
              "</div>\n",
              "      <button class=\"colab-df-convert\" onclick=\"convertToInteractive('df-2a6c6e17-df97-4dc4-be4c-1fe5dde83255')\"\n",
              "              title=\"Convert this dataframe to an interactive table.\"\n",
              "              style=\"display:none;\">\n",
              "        \n",
              "  <svg xmlns=\"http://www.w3.org/2000/svg\" height=\"24px\"viewBox=\"0 0 24 24\"\n",
              "       width=\"24px\">\n",
              "    <path d=\"M0 0h24v24H0V0z\" fill=\"none\"/>\n",
              "    <path d=\"M18.56 5.44l.94 2.06.94-2.06 2.06-.94-2.06-.94-.94-2.06-.94 2.06-2.06.94zm-11 1L8.5 8.5l.94-2.06 2.06-.94-2.06-.94L8.5 2.5l-.94 2.06-2.06.94zm10 10l.94 2.06.94-2.06 2.06-.94-2.06-.94-.94-2.06-.94 2.06-2.06.94z\"/><path d=\"M17.41 7.96l-1.37-1.37c-.4-.4-.92-.59-1.43-.59-.52 0-1.04.2-1.43.59L10.3 9.45l-7.72 7.72c-.78.78-.78 2.05 0 2.83L4 21.41c.39.39.9.59 1.41.59.51 0 1.02-.2 1.41-.59l7.78-7.78 2.81-2.81c.8-.78.8-2.07 0-2.86zM5.41 20L4 18.59l7.72-7.72 1.47 1.35L5.41 20z\"/>\n",
              "  </svg>\n",
              "      </button>\n",
              "      \n",
              "  <style>\n",
              "    .colab-df-container {\n",
              "      display:flex;\n",
              "      flex-wrap:wrap;\n",
              "      gap: 12px;\n",
              "    }\n",
              "\n",
              "    .colab-df-convert {\n",
              "      background-color: #E8F0FE;\n",
              "      border: none;\n",
              "      border-radius: 50%;\n",
              "      cursor: pointer;\n",
              "      display: none;\n",
              "      fill: #1967D2;\n",
              "      height: 32px;\n",
              "      padding: 0 0 0 0;\n",
              "      width: 32px;\n",
              "    }\n",
              "\n",
              "    .colab-df-convert:hover {\n",
              "      background-color: #E2EBFA;\n",
              "      box-shadow: 0px 1px 2px rgba(60, 64, 67, 0.3), 0px 1px 3px 1px rgba(60, 64, 67, 0.15);\n",
              "      fill: #174EA6;\n",
              "    }\n",
              "\n",
              "    [theme=dark] .colab-df-convert {\n",
              "      background-color: #3B4455;\n",
              "      fill: #D2E3FC;\n",
              "    }\n",
              "\n",
              "    [theme=dark] .colab-df-convert:hover {\n",
              "      background-color: #434B5C;\n",
              "      box-shadow: 0px 1px 3px 1px rgba(0, 0, 0, 0.15);\n",
              "      filter: drop-shadow(0px 1px 2px rgba(0, 0, 0, 0.3));\n",
              "      fill: #FFFFFF;\n",
              "    }\n",
              "  </style>\n",
              "\n",
              "      <script>\n",
              "        const buttonEl =\n",
              "          document.querySelector('#df-2a6c6e17-df97-4dc4-be4c-1fe5dde83255 button.colab-df-convert');\n",
              "        buttonEl.style.display =\n",
              "          google.colab.kernel.accessAllowed ? 'block' : 'none';\n",
              "\n",
              "        async function convertToInteractive(key) {\n",
              "          const element = document.querySelector('#df-2a6c6e17-df97-4dc4-be4c-1fe5dde83255');\n",
              "          const dataTable =\n",
              "            await google.colab.kernel.invokeFunction('convertToInteractive',\n",
              "                                                     [key], {});\n",
              "          if (!dataTable) return;\n",
              "\n",
              "          const docLinkHtml = 'Like what you see? Visit the ' +\n",
              "            '<a target=\"_blank\" href=https://colab.research.google.com/notebooks/data_table.ipynb>data table notebook</a>'\n",
              "            + ' to learn more about interactive tables.';\n",
              "          element.innerHTML = '';\n",
              "          dataTable['output_type'] = 'display_data';\n",
              "          await google.colab.output.renderOutput(dataTable, element);\n",
              "          const docLink = document.createElement('div');\n",
              "          docLink.innerHTML = docLinkHtml;\n",
              "          element.appendChild(docLink);\n",
              "        }\n",
              "      </script>\n",
              "    </div>\n",
              "  </div>\n",
              "  "
            ]
          },
          "metadata": {},
          "execution_count": 248
        }
      ]
    },
    {
      "cell_type": "code",
      "metadata": {
        "id": "4qJ-B4HhO4rK"
      },
      "source": [
        "new_data=pd.concat([df_nominal,df_ordinal,data[numerical]],axis=1)"
      ],
      "execution_count": 249,
      "outputs": []
    },
    {
      "cell_type": "code",
      "metadata": {
        "colab": {
          "base_uri": "https://localhost:8080/"
        },
        "id": "Dxn5cPYqPEtL",
        "outputId": "e25c3131-e7d0-486b-ba90-2c512d415d7a"
      },
      "source": [
        "new_data.shape"
      ],
      "execution_count": 250,
      "outputs": [
        {
          "output_type": "execute_result",
          "data": {
            "text/plain": [
              "(1460, 107)"
            ]
          },
          "metadata": {},
          "execution_count": 250
        }
      ]
    },
    {
      "cell_type": "markdown",
      "metadata": {
        "id": "bFgsoRFNPlXP"
      },
      "source": [
        "# Standardize"
      ]
    },
    {
      "cell_type": "code",
      "metadata": {
        "id": "RK7ZuqtsPp5z"
      },
      "source": [
        "new_data.drop('SalePrice',axis=1,inplace=True)"
      ],
      "execution_count": 251,
      "outputs": []
    },
    {
      "cell_type": "code",
      "metadata": {
        "id": "_YN320_WQNwu"
      },
      "source": [
        "X= new_data.to_numpy()"
      ],
      "execution_count": 252,
      "outputs": []
    },
    {
      "cell_type": "code",
      "metadata": {
        "id": "6nrO1F1VRPf8",
        "colab": {
          "base_uri": "https://localhost:8080/"
        },
        "outputId": "766cf4e8-e4c2-4aa0-eb3c-6ca8b46b5add"
      },
      "source": [
        "X[0]"
      ],
      "execution_count": 253,
      "outputs": [
        {
          "output_type": "execute_result",
          "data": {
            "text/plain": [
              "array([0.000e+00, 0.000e+00, 0.000e+00, 1.000e+00, 0.000e+00, 0.000e+00,\n",
              "       0.000e+00, 0.000e+00, 1.000e+00, 0.000e+00, 0.000e+00, 0.000e+00,\n",
              "       0.000e+00, 0.000e+00, 1.000e+00, 0.000e+00, 0.000e+00, 0.000e+00,\n",
              "       0.000e+00, 0.000e+00, 0.000e+00, 0.000e+00, 0.000e+00, 0.000e+00,\n",
              "       0.000e+00, 0.000e+00, 0.000e+00, 0.000e+00, 0.000e+00, 0.000e+00,\n",
              "       0.000e+00, 0.000e+00, 0.000e+00, 0.000e+00, 2.000e+00, 1.000e+00,\n",
              "       1.000e+00, 1.000e+00, 4.000e+00, 2.000e+00, 3.000e+00, 0.000e+00,\n",
              "       1.200e+01, 5.000e+00, 2.000e+00, 1.000e+00, 1.000e+00, 0.000e+00,\n",
              "       4.000e+00, 6.000e+00, 5.000e+00, 1.000e+00, 3.000e+00, 2.000e+00,\n",
              "       4.000e+00, 2.000e+00, 2.000e+00, 1.000e+00, 3.000e+00, 4.000e+00,\n",
              "       0.000e+00, 2.000e+00, 2.000e+00, 0.000e+00, 1.000e+00, 4.000e+00,\n",
              "       4.000e+00, 4.000e+00, 1.300e+01, 8.000e+00, 1.960e+02, 0.000e+00,\n",
              "       8.540e+02, 7.060e+02, 8.450e+03, 7.000e+00, 0.000e+00, 1.500e+02,\n",
              "       2.000e+00, 0.000e+00, 0.000e+00, 0.000e+00, 2.008e+03, 5.480e+02,\n",
              "       1.000e+00, 2.000e+00, 0.000e+00, 6.000e+01, 2.000e+00, 8.560e+02,\n",
              "       0.000e+00, 6.500e+01, 0.000e+00, 2.003e+03, 1.710e+03, 1.000e+00,\n",
              "       5.000e+00, 1.000e+00, 2.003e+03, 0.000e+00, 2.003e+03, 8.560e+02,\n",
              "       3.000e+00, 0.000e+00, 6.100e+01, 8.000e+00])"
            ]
          },
          "metadata": {},
          "execution_count": 253
        }
      ]
    },
    {
      "cell_type": "code",
      "metadata": {
        "id": "Y82pjfwTWP9i"
      },
      "source": [
        "X=StandardScaler().fit_transform(X)"
      ],
      "execution_count": 254,
      "outputs": []
    },
    {
      "cell_type": "code",
      "metadata": {
        "id": "tCusHeVeOEZR",
        "colab": {
          "base_uri": "https://localhost:8080/"
        },
        "outputId": "8e8f5482-ac6a-4d3d-d101-11cae89e3da5"
      },
      "source": [
        "X[0]"
      ],
      "execution_count": 255,
      "outputs": [
        {
          "output_type": "execute_result",
          "data": {
            "text/plain": [
              "array([-0.08304548, -0.21585871, -0.10526316,  0.51813339, -0.41895507,\n",
              "       -0.21235968, -0.18831089, -0.15899968,  0.33712564, -0.10854037,\n",
              "       -0.03703704, -0.10526316, -0.20339487, -0.1398323 ,  2.95522137,\n",
              "       -0.19025216, -0.27116307, -0.23917551, -0.16124951, -0.10854037,\n",
              "       -0.1863522 , -0.42683279, -0.07875671, -0.22941573, -0.16998114,\n",
              "       -0.23595776, -0.28963792, -0.13199092, -0.23106504, -0.20521398,\n",
              "       -0.25018188, -0.13199092, -0.16347148, -0.08712888, -0.40936914,\n",
              "       -0.49151573, -0.12304604, -0.12579688,  1.11571093,  0.28974476,\n",
              "        0.64046232, -0.22571613,  0.74309239,  1.02668924, -0.29055229,\n",
              "       -1.23804229,  0.26381257, -0.88465767,  0.2085023 ,  0.25597761,\n",
              "        0.30941909,  0.06423821,  0.28780036, -0.03628912,  0.60466978,\n",
              "       -0.03174026, -0.40779461, -0.71775144,  0.75073056,  0.303692  ,\n",
              "       -0.41169079, -0.77797579,  0.83559903, -0.02618016, -0.23012211,\n",
              "        0.18797343,  0.36420746,  0.22403433,  0.75162623,  0.31386709,\n",
              "        0.51141841, -0.3593249 ,  1.16185159,  0.57542484, -0.20714171,\n",
              "        0.65147924, -0.75217584, -0.94459061, -1.5991111 , -0.08768781,\n",
              "       -0.95122649, -0.24106104,  0.13877749,  0.35100032, -0.21145358,\n",
              "        0.78974052, -0.12024172,  0.07337496,  0.31172464, -0.45930254,\n",
              "       -0.28865283, -0.22937175, -0.27020835,  0.87866809,  0.37033344,\n",
              "        1.10781015, -0.51719981,  1.22758538,  1.02115667, -0.11633929,\n",
              "        1.05099379, -0.79343379,  0.16377912, -0.06869175,  0.21650316,\n",
              "        0.91220977])"
            ]
          },
          "metadata": {},
          "execution_count": 255
        }
      ]
    },
    {
      "cell_type": "code",
      "metadata": {
        "id": "1fUYBYpdQmJO"
      },
      "source": [
        "y=data[target]"
      ],
      "execution_count": 256,
      "outputs": []
    },
    {
      "cell_type": "markdown",
      "source": [
        ""
      ],
      "metadata": {
        "id": "qUcI8qlb8TdZ"
      }
    },
    {
      "cell_type": "code",
      "metadata": {
        "id": "D3vzwzUoQ0to"
      },
      "source": [
        "y=y.to_numpy()"
      ],
      "execution_count": 257,
      "outputs": []
    },
    {
      "cell_type": "code",
      "metadata": {
        "colab": {
          "base_uri": "https://localhost:8080/"
        },
        "id": "t6fa6-LVRGhW",
        "outputId": "850da297-4425-418b-e44e-e5b52881568e"
      },
      "source": [
        "y.shape"
      ],
      "execution_count": 258,
      "outputs": [
        {
          "output_type": "execute_result",
          "data": {
            "text/plain": [
              "(1460, 1)"
            ]
          },
          "metadata": {},
          "execution_count": 258
        }
      ]
    },
    {
      "cell_type": "code",
      "metadata": {
        "id": "uu6nQchuPV7N",
        "colab": {
          "base_uri": "https://localhost:8080/"
        },
        "outputId": "9b6d9e3f-d193-4481-f3d6-9393aad907e2"
      },
      "source": [
        "y"
      ],
      "execution_count": 259,
      "outputs": [
        {
          "output_type": "execute_result",
          "data": {
            "text/plain": [
              "array([[208500],\n",
              "       [181500],\n",
              "       [223500],\n",
              "       ...,\n",
              "       [266500],\n",
              "       [142125],\n",
              "       [147500]])"
            ]
          },
          "metadata": {},
          "execution_count": 259
        }
      ]
    },
    {
      "cell_type": "code",
      "metadata": {
        "id": "R_ZoVQpBPY2V"
      },
      "source": [
        "y=StandardScaler().fit_transform(y)"
      ],
      "execution_count": 260,
      "outputs": []
    },
    {
      "cell_type": "code",
      "metadata": {
        "colab": {
          "base_uri": "https://localhost:8080/"
        },
        "id": "kZ7Og1k1Pc6I",
        "outputId": "c309f453-3a83-4d1d-9d11-dcf807314f77"
      },
      "source": [
        "y"
      ],
      "execution_count": 261,
      "outputs": [
        {
          "output_type": "execute_result",
          "data": {
            "text/plain": [
              "array([[ 0.34727322],\n",
              "       [ 0.00728832],\n",
              "       [ 0.53615372],\n",
              "       ...,\n",
              "       [ 1.07761115],\n",
              "       [-0.48852299],\n",
              "       [-0.42084081]])"
            ]
          },
          "metadata": {},
          "execution_count": 261
        }
      ]
    },
    {
      "cell_type": "code",
      "metadata": {
        "colab": {
          "base_uri": "https://localhost:8080/"
        },
        "id": "4k4WmbkQPd_O",
        "outputId": "df69fff6-a75c-4689-c38e-4b2605388cf0"
      },
      "source": [
        "X.shape"
      ],
      "execution_count": 262,
      "outputs": [
        {
          "output_type": "execute_result",
          "data": {
            "text/plain": [
              "(1460, 106)"
            ]
          },
          "metadata": {},
          "execution_count": 262
        }
      ]
    },
    {
      "cell_type": "code",
      "source": [
        "X"
      ],
      "metadata": {
        "colab": {
          "base_uri": "https://localhost:8080/"
        },
        "id": "IzKin1D28U_v",
        "outputId": "f7fdecbe-13c6-4ed9-e12c-ac8463955ef2"
      },
      "execution_count": 263,
      "outputs": [
        {
          "output_type": "execute_result",
          "data": {
            "text/plain": [
              "array([[-0.08304548, -0.21585871, -0.10526316, ..., -0.06869175,\n",
              "         0.21650316,  0.91220977],\n",
              "       [-0.08304548, -0.21585871, -0.10526316, ..., -0.06869175,\n",
              "        -0.70448325, -0.31868327],\n",
              "       [-0.08304548, -0.21585871, -0.10526316, ..., -0.06869175,\n",
              "        -0.07036146, -0.31868327],\n",
              "       ...,\n",
              "       [-0.08304548, -0.21585871, -0.10526316, ..., -0.06869175,\n",
              "         0.20140502,  1.52765629],\n",
              "       [-0.08304548, -0.21585871, -0.10526316, ..., -0.06869175,\n",
              "        -0.70448325, -0.93412978],\n",
              "       [-0.08304548, -0.21585871, -0.10526316, ..., -0.06869175,\n",
              "         0.32219013, -0.31868327]])"
            ]
          },
          "metadata": {},
          "execution_count": 263
        }
      ]
    },
    {
      "cell_type": "markdown",
      "metadata": {
        "id": "WQ5eImT_P1xu"
      },
      "source": [
        "# Feature Extraction Using PCA"
      ]
    },
    {
      "cell_type": "code",
      "metadata": {
        "id": "9ve1tg9_P8lu"
      },
      "source": [
        "pca=PCA(n_components=2)"
      ],
      "execution_count": 264,
      "outputs": []
    },
    {
      "cell_type": "code",
      "metadata": {
        "id": "SnovQPpmQN_G"
      },
      "source": [
        "p_components=pca.fit_transform(X)"
      ],
      "execution_count": 265,
      "outputs": []
    },
    {
      "cell_type": "code",
      "metadata": {
        "colab": {
          "base_uri": "https://localhost:8080/"
        },
        "id": "k6lWd7pLQiJH",
        "outputId": "4e7db295-1c9c-44b4-9a91-93934f155a7e"
      },
      "source": [
        "p_components"
      ],
      "execution_count": 266,
      "outputs": [
        {
          "output_type": "execute_result",
          "data": {
            "text/plain": [
              "array([[ 2.44423516, -1.28438178],\n",
              "       [ 0.31735638,  2.6334881 ],\n",
              "       [ 2.8581316 , -0.81671428],\n",
              "       ...,\n",
              "       [ 1.26129952, -0.85481229],\n",
              "       [-2.82789397,  3.27255063],\n",
              "       [-0.75425608,  2.76700288]])"
            ]
          },
          "metadata": {},
          "execution_count": 266
        }
      ]
    },
    {
      "cell_type": "code",
      "metadata": {
        "colab": {
          "base_uri": "https://localhost:8080/"
        },
        "id": "PSJL6HXWQu_Y",
        "outputId": "edd9ec05-0510-4f78-cee8-4e41f38bd81b"
      },
      "source": [
        "pca.explained_variance_ratio_"
      ],
      "execution_count": 267,
      "outputs": [
        {
          "output_type": "execute_result",
          "data": {
            "text/plain": [
              "array([0.10560106, 0.04471871])"
            ]
          },
          "metadata": {},
          "execution_count": 267
        }
      ]
    },
    {
      "cell_type": "markdown",
      "metadata": {
        "id": "OFeVTQwcUT0a"
      },
      "source": [
        "# Feature selection and training the model"
      ]
    },
    {
      "cell_type": "code",
      "metadata": {
        "id": "uZZnI0haUWSQ"
      },
      "source": [
        "reg=LassoCV()"
      ],
      "execution_count": 268,
      "outputs": []
    },
    {
      "cell_type": "code",
      "metadata": {
        "colab": {
          "base_uri": "https://localhost:8080/"
        },
        "id": "mvatk3RxUa7k",
        "outputId": "82b58ffe-67f7-4f20-b54b-4d3f0380bf8c"
      },
      "source": [
        "reg.fit(p_components,y)"
      ],
      "execution_count": 269,
      "outputs": [
        {
          "output_type": "stream",
          "name": "stderr",
          "text": [
            "/usr/local/lib/python3.7/dist-packages/sklearn/linear_model/_coordinate_descent.py:1571: DataConversionWarning: A column-vector y was passed when a 1d array was expected. Please change the shape of y to (n_samples, ), for example using ravel().\n",
            "  y = column_or_1d(y, warn=True)\n"
          ]
        },
        {
          "output_type": "execute_result",
          "data": {
            "text/plain": [
              "LassoCV()"
            ]
          },
          "metadata": {},
          "execution_count": 269
        }
      ]
    },
    {
      "cell_type": "code",
      "metadata": {
        "colab": {
          "base_uri": "https://localhost:8080/"
        },
        "id": "a3unaxeaUscx",
        "outputId": "89611fa4-16a2-4d81-d904-ee8986677bcd"
      },
      "source": [
        "reg.coef_"
      ],
      "execution_count": 270,
      "outputs": [
        {
          "output_type": "execute_result",
          "data": {
            "text/plain": [
              "array([0.25387437, 0.01903667])"
            ]
          },
          "metadata": {},
          "execution_count": 270
        }
      ]
    },
    {
      "cell_type": "code",
      "source": [
        "X_train, X_test, y_train, y_test = train_test_split(X,y,test_size=0.3)"
      ],
      "metadata": {
        "id": "2GgCaMKoywzM"
      },
      "execution_count": 271,
      "outputs": []
    },
    {
      "cell_type": "code",
      "source": [
        "X_train.shape"
      ],
      "metadata": {
        "id": "gQbRTQlxyzEm",
        "colab": {
          "base_uri": "https://localhost:8080/"
        },
        "outputId": "f8752282-a7b3-44cc-aaaf-fd7b8b2150c2"
      },
      "execution_count": 272,
      "outputs": [
        {
          "output_type": "execute_result",
          "data": {
            "text/plain": [
              "(1022, 106)"
            ]
          },
          "metadata": {},
          "execution_count": 272
        }
      ]
    },
    {
      "cell_type": "code",
      "source": [
        "epochs=300\n",
        "model = Sequential()\n",
        "model.add(Dense(80, activation='relu'))\n",
        "model.add(Dense(40, activation='relu'))\n",
        "model.add(Dense(20, activation='relu'))\n",
        "model.add(Dense(10))\n",
        "model.compile(loss='mse', optimizer='adam')\n",
        "\n",
        "history = model.fit(X_train, y_train, validation_split=0.15,batch_size=128, epochs=epochs)"
      ],
      "metadata": {
        "id": "iuCcu5JRzfmN",
        "colab": {
          "base_uri": "https://localhost:8080/"
        },
        "outputId": "d30dba74-f9e9-49ce-f54f-748045d687a3"
      },
      "execution_count": 309,
      "outputs": [
        {
          "output_type": "stream",
          "name": "stdout",
          "text": [
            "Epoch 1/300\n",
            "7/7 [==============================] - 1s 25ms/step - loss: 1.1637 - val_loss: 0.6538\n",
            "Epoch 2/300\n",
            "7/7 [==============================] - 0s 6ms/step - loss: 0.8291 - val_loss: 0.5048\n",
            "Epoch 3/300\n",
            "7/7 [==============================] - 0s 7ms/step - loss: 0.6684 - val_loss: 0.4149\n",
            "Epoch 4/300\n",
            "7/7 [==============================] - 0s 6ms/step - loss: 0.5548 - val_loss: 0.3558\n",
            "Epoch 5/300\n",
            "7/7 [==============================] - 0s 6ms/step - loss: 0.4614 - val_loss: 0.3092\n",
            "Epoch 6/300\n",
            "7/7 [==============================] - 0s 7ms/step - loss: 0.3967 - val_loss: 0.2686\n",
            "Epoch 7/300\n",
            "7/7 [==============================] - 0s 7ms/step - loss: 0.3353 - val_loss: 0.2291\n",
            "Epoch 8/300\n",
            "7/7 [==============================] - 0s 6ms/step - loss: 0.2890 - val_loss: 0.2006\n",
            "Epoch 9/300\n",
            "7/7 [==============================] - 0s 6ms/step - loss: 0.2523 - val_loss: 0.1799\n",
            "Epoch 10/300\n",
            "7/7 [==============================] - 0s 8ms/step - loss: 0.2174 - val_loss: 0.1616\n",
            "Epoch 11/300\n",
            "7/7 [==============================] - 0s 8ms/step - loss: 0.1882 - val_loss: 0.1479\n",
            "Epoch 12/300\n",
            "7/7 [==============================] - 0s 7ms/step - loss: 0.1636 - val_loss: 0.1353\n",
            "Epoch 13/300\n",
            "7/7 [==============================] - 0s 7ms/step - loss: 0.1417 - val_loss: 0.1254\n",
            "Epoch 14/300\n",
            "7/7 [==============================] - 0s 7ms/step - loss: 0.1245 - val_loss: 0.1181\n",
            "Epoch 15/300\n",
            "7/7 [==============================] - 0s 7ms/step - loss: 0.1095 - val_loss: 0.1125\n",
            "Epoch 16/300\n",
            "7/7 [==============================] - 0s 6ms/step - loss: 0.0989 - val_loss: 0.1073\n",
            "Epoch 17/300\n",
            "7/7 [==============================] - 0s 7ms/step - loss: 0.0893 - val_loss: 0.1040\n",
            "Epoch 18/300\n",
            "7/7 [==============================] - 0s 7ms/step - loss: 0.0817 - val_loss: 0.1025\n",
            "Epoch 19/300\n",
            "7/7 [==============================] - 0s 7ms/step - loss: 0.0760 - val_loss: 0.1008\n",
            "Epoch 20/300\n",
            "7/7 [==============================] - 0s 7ms/step - loss: 0.0715 - val_loss: 0.0997\n",
            "Epoch 21/300\n",
            "7/7 [==============================] - 0s 7ms/step - loss: 0.0669 - val_loss: 0.0997\n",
            "Epoch 22/300\n",
            "7/7 [==============================] - 0s 7ms/step - loss: 0.0632 - val_loss: 0.0994\n",
            "Epoch 23/300\n",
            "7/7 [==============================] - 0s 7ms/step - loss: 0.0598 - val_loss: 0.0984\n",
            "Epoch 24/300\n",
            "7/7 [==============================] - 0s 6ms/step - loss: 0.0565 - val_loss: 0.0986\n",
            "Epoch 25/300\n",
            "7/7 [==============================] - 0s 6ms/step - loss: 0.0533 - val_loss: 0.0979\n",
            "Epoch 26/300\n",
            "7/7 [==============================] - 0s 7ms/step - loss: 0.0513 - val_loss: 0.0987\n",
            "Epoch 27/300\n",
            "7/7 [==============================] - 0s 6ms/step - loss: 0.0481 - val_loss: 0.0983\n",
            "Epoch 28/300\n",
            "7/7 [==============================] - 0s 7ms/step - loss: 0.0459 - val_loss: 0.0974\n",
            "Epoch 29/300\n",
            "7/7 [==============================] - 0s 7ms/step - loss: 0.0435 - val_loss: 0.0964\n",
            "Epoch 30/300\n",
            "7/7 [==============================] - 0s 10ms/step - loss: 0.0418 - val_loss: 0.0967\n",
            "Epoch 31/300\n",
            "7/7 [==============================] - 0s 7ms/step - loss: 0.0398 - val_loss: 0.0973\n",
            "Epoch 32/300\n",
            "7/7 [==============================] - 0s 7ms/step - loss: 0.0379 - val_loss: 0.0971\n",
            "Epoch 33/300\n",
            "7/7 [==============================] - 0s 7ms/step - loss: 0.0362 - val_loss: 0.0967\n",
            "Epoch 34/300\n",
            "7/7 [==============================] - 0s 7ms/step - loss: 0.0346 - val_loss: 0.0963\n",
            "Epoch 35/300\n",
            "7/7 [==============================] - 0s 6ms/step - loss: 0.0331 - val_loss: 0.0961\n",
            "Epoch 36/300\n",
            "7/7 [==============================] - 0s 6ms/step - loss: 0.0314 - val_loss: 0.0966\n",
            "Epoch 37/300\n",
            "7/7 [==============================] - 0s 7ms/step - loss: 0.0299 - val_loss: 0.0966\n",
            "Epoch 38/300\n",
            "7/7 [==============================] - 0s 10ms/step - loss: 0.0287 - val_loss: 0.0963\n",
            "Epoch 39/300\n",
            "7/7 [==============================] - 0s 7ms/step - loss: 0.0272 - val_loss: 0.0958\n",
            "Epoch 40/300\n",
            "7/7 [==============================] - 0s 7ms/step - loss: 0.0259 - val_loss: 0.0959\n",
            "Epoch 41/300\n",
            "7/7 [==============================] - 0s 6ms/step - loss: 0.0248 - val_loss: 0.0956\n",
            "Epoch 42/300\n",
            "7/7 [==============================] - 0s 9ms/step - loss: 0.0238 - val_loss: 0.0950\n",
            "Epoch 43/300\n",
            "7/7 [==============================] - 0s 7ms/step - loss: 0.0228 - val_loss: 0.0953\n",
            "Epoch 44/300\n",
            "7/7 [==============================] - 0s 6ms/step - loss: 0.0218 - val_loss: 0.0945\n",
            "Epoch 45/300\n",
            "7/7 [==============================] - 0s 6ms/step - loss: 0.0209 - val_loss: 0.0950\n",
            "Epoch 46/300\n",
            "7/7 [==============================] - 0s 7ms/step - loss: 0.0202 - val_loss: 0.0947\n",
            "Epoch 47/300\n",
            "7/7 [==============================] - 0s 6ms/step - loss: 0.0191 - val_loss: 0.0944\n",
            "Epoch 48/300\n",
            "7/7 [==============================] - 0s 6ms/step - loss: 0.0184 - val_loss: 0.0947\n",
            "Epoch 49/300\n",
            "7/7 [==============================] - 0s 8ms/step - loss: 0.0176 - val_loss: 0.0947\n",
            "Epoch 50/300\n",
            "7/7 [==============================] - 0s 7ms/step - loss: 0.0169 - val_loss: 0.0949\n",
            "Epoch 51/300\n",
            "7/7 [==============================] - 0s 7ms/step - loss: 0.0162 - val_loss: 0.0942\n",
            "Epoch 52/300\n",
            "7/7 [==============================] - 0s 7ms/step - loss: 0.0156 - val_loss: 0.0943\n",
            "Epoch 53/300\n",
            "7/7 [==============================] - 0s 9ms/step - loss: 0.0150 - val_loss: 0.0944\n",
            "Epoch 54/300\n",
            "7/7 [==============================] - 0s 7ms/step - loss: 0.0144 - val_loss: 0.0945\n",
            "Epoch 55/300\n",
            "7/7 [==============================] - 0s 7ms/step - loss: 0.0138 - val_loss: 0.0943\n",
            "Epoch 56/300\n",
            "7/7 [==============================] - 0s 7ms/step - loss: 0.0133 - val_loss: 0.0951\n",
            "Epoch 57/300\n",
            "7/7 [==============================] - 0s 7ms/step - loss: 0.0129 - val_loss: 0.0947\n",
            "Epoch 58/300\n",
            "7/7 [==============================] - 0s 7ms/step - loss: 0.0123 - val_loss: 0.0946\n",
            "Epoch 59/300\n",
            "7/7 [==============================] - 0s 8ms/step - loss: 0.0118 - val_loss: 0.0950\n",
            "Epoch 60/300\n",
            "7/7 [==============================] - 0s 6ms/step - loss: 0.0115 - val_loss: 0.0958\n",
            "Epoch 61/300\n",
            "7/7 [==============================] - 0s 7ms/step - loss: 0.0111 - val_loss: 0.0954\n",
            "Epoch 62/300\n",
            "7/7 [==============================] - 0s 6ms/step - loss: 0.0106 - val_loss: 0.0953\n",
            "Epoch 63/300\n",
            "7/7 [==============================] - 0s 6ms/step - loss: 0.0102 - val_loss: 0.0954\n",
            "Epoch 64/300\n",
            "7/7 [==============================] - 0s 6ms/step - loss: 0.0099 - val_loss: 0.0957\n",
            "Epoch 65/300\n",
            "7/7 [==============================] - 0s 10ms/step - loss: 0.0096 - val_loss: 0.0961\n",
            "Epoch 66/300\n",
            "7/7 [==============================] - 0s 6ms/step - loss: 0.0093 - val_loss: 0.0965\n",
            "Epoch 67/300\n",
            "7/7 [==============================] - 0s 7ms/step - loss: 0.0090 - val_loss: 0.0962\n",
            "Epoch 68/300\n",
            "7/7 [==============================] - 0s 8ms/step - loss: 0.0086 - val_loss: 0.0959\n",
            "Epoch 69/300\n",
            "7/7 [==============================] - 0s 7ms/step - loss: 0.0084 - val_loss: 0.0967\n",
            "Epoch 70/300\n",
            "7/7 [==============================] - 0s 7ms/step - loss: 0.0082 - val_loss: 0.0969\n",
            "Epoch 71/300\n",
            "7/7 [==============================] - 0s 8ms/step - loss: 0.0079 - val_loss: 0.0961\n",
            "Epoch 72/300\n",
            "7/7 [==============================] - 0s 7ms/step - loss: 0.0076 - val_loss: 0.0968\n",
            "Epoch 73/300\n",
            "7/7 [==============================] - 0s 7ms/step - loss: 0.0074 - val_loss: 0.0971\n",
            "Epoch 74/300\n",
            "7/7 [==============================] - 0s 6ms/step - loss: 0.0072 - val_loss: 0.0976\n",
            "Epoch 75/300\n",
            "7/7 [==============================] - 0s 6ms/step - loss: 0.0069 - val_loss: 0.0971\n",
            "Epoch 76/300\n",
            "7/7 [==============================] - 0s 7ms/step - loss: 0.0067 - val_loss: 0.0975\n",
            "Epoch 77/300\n",
            "7/7 [==============================] - 0s 6ms/step - loss: 0.0065 - val_loss: 0.0974\n",
            "Epoch 78/300\n",
            "7/7 [==============================] - 0s 7ms/step - loss: 0.0063 - val_loss: 0.0977\n",
            "Epoch 79/300\n",
            "7/7 [==============================] - 0s 7ms/step - loss: 0.0061 - val_loss: 0.0977\n",
            "Epoch 80/300\n",
            "7/7 [==============================] - 0s 7ms/step - loss: 0.0060 - val_loss: 0.0982\n",
            "Epoch 81/300\n",
            "7/7 [==============================] - 0s 6ms/step - loss: 0.0058 - val_loss: 0.0983\n",
            "Epoch 82/300\n",
            "7/7 [==============================] - 0s 8ms/step - loss: 0.0056 - val_loss: 0.0986\n",
            "Epoch 83/300\n",
            "7/7 [==============================] - 0s 8ms/step - loss: 0.0054 - val_loss: 0.0982\n",
            "Epoch 84/300\n",
            "7/7 [==============================] - 0s 7ms/step - loss: 0.0053 - val_loss: 0.0984\n",
            "Epoch 85/300\n",
            "7/7 [==============================] - 0s 6ms/step - loss: 0.0051 - val_loss: 0.0988\n",
            "Epoch 86/300\n",
            "7/7 [==============================] - 0s 6ms/step - loss: 0.0050 - val_loss: 0.0990\n",
            "Epoch 87/300\n",
            "7/7 [==============================] - 0s 7ms/step - loss: 0.0049 - val_loss: 0.0986\n",
            "Epoch 88/300\n",
            "7/7 [==============================] - 0s 7ms/step - loss: 0.0048 - val_loss: 0.0992\n",
            "Epoch 89/300\n",
            "7/7 [==============================] - 0s 7ms/step - loss: 0.0047 - val_loss: 0.0989\n",
            "Epoch 90/300\n",
            "7/7 [==============================] - 0s 7ms/step - loss: 0.0046 - val_loss: 0.0992\n",
            "Epoch 91/300\n",
            "7/7 [==============================] - 0s 6ms/step - loss: 0.0044 - val_loss: 0.0990\n",
            "Epoch 92/300\n",
            "7/7 [==============================] - 0s 8ms/step - loss: 0.0043 - val_loss: 0.0993\n",
            "Epoch 93/300\n",
            "7/7 [==============================] - 0s 7ms/step - loss: 0.0042 - val_loss: 0.0992\n",
            "Epoch 94/300\n",
            "7/7 [==============================] - 0s 7ms/step - loss: 0.0040 - val_loss: 0.0992\n",
            "Epoch 95/300\n",
            "7/7 [==============================] - 0s 7ms/step - loss: 0.0039 - val_loss: 0.0995\n",
            "Epoch 96/300\n",
            "7/7 [==============================] - 0s 6ms/step - loss: 0.0038 - val_loss: 0.0994\n",
            "Epoch 97/300\n",
            "7/7 [==============================] - 0s 7ms/step - loss: 0.0037 - val_loss: 0.1001\n",
            "Epoch 98/300\n",
            "7/7 [==============================] - 0s 7ms/step - loss: 0.0037 - val_loss: 0.0996\n",
            "Epoch 99/300\n",
            "7/7 [==============================] - 0s 7ms/step - loss: 0.0035 - val_loss: 0.0995\n",
            "Epoch 100/300\n",
            "7/7 [==============================] - 0s 6ms/step - loss: 0.0034 - val_loss: 0.0998\n",
            "Epoch 101/300\n",
            "7/7 [==============================] - 0s 6ms/step - loss: 0.0034 - val_loss: 0.0994\n",
            "Epoch 102/300\n",
            "7/7 [==============================] - 0s 6ms/step - loss: 0.0032 - val_loss: 0.0999\n",
            "Epoch 103/300\n",
            "7/7 [==============================] - 0s 6ms/step - loss: 0.0032 - val_loss: 0.1001\n",
            "Epoch 104/300\n",
            "7/7 [==============================] - 0s 6ms/step - loss: 0.0031 - val_loss: 0.1000\n",
            "Epoch 105/300\n",
            "7/7 [==============================] - 0s 16ms/step - loss: 0.0031 - val_loss: 0.0995\n",
            "Epoch 106/300\n",
            "7/7 [==============================] - 0s 13ms/step - loss: 0.0030 - val_loss: 0.0999\n",
            "Epoch 107/300\n",
            "7/7 [==============================] - 0s 16ms/step - loss: 0.0029 - val_loss: 0.1002\n",
            "Epoch 108/300\n",
            "7/7 [==============================] - 0s 6ms/step - loss: 0.0028 - val_loss: 0.1002\n",
            "Epoch 109/300\n",
            "7/7 [==============================] - 0s 7ms/step - loss: 0.0028 - val_loss: 0.0998\n",
            "Epoch 110/300\n",
            "7/7 [==============================] - 0s 7ms/step - loss: 0.0027 - val_loss: 0.0997\n",
            "Epoch 111/300\n",
            "7/7 [==============================] - 0s 6ms/step - loss: 0.0027 - val_loss: 0.1001\n",
            "Epoch 112/300\n",
            "7/7 [==============================] - 0s 11ms/step - loss: 0.0026 - val_loss: 0.0999\n",
            "Epoch 113/300\n",
            "7/7 [==============================] - 0s 10ms/step - loss: 0.0026 - val_loss: 0.0999\n",
            "Epoch 114/300\n",
            "7/7 [==============================] - 0s 6ms/step - loss: 0.0025 - val_loss: 0.1000\n",
            "Epoch 115/300\n",
            "7/7 [==============================] - 0s 6ms/step - loss: 0.0024 - val_loss: 0.0996\n",
            "Epoch 116/300\n",
            "7/7 [==============================] - 0s 8ms/step - loss: 0.0024 - val_loss: 0.1001\n",
            "Epoch 117/300\n",
            "7/7 [==============================] - 0s 7ms/step - loss: 0.0023 - val_loss: 0.0998\n",
            "Epoch 118/300\n",
            "7/7 [==============================] - 0s 8ms/step - loss: 0.0023 - val_loss: 0.0998\n",
            "Epoch 119/300\n",
            "7/7 [==============================] - 0s 7ms/step - loss: 0.0022 - val_loss: 0.1001\n",
            "Epoch 120/300\n",
            "7/7 [==============================] - 0s 8ms/step - loss: 0.0022 - val_loss: 0.0997\n",
            "Epoch 121/300\n",
            "7/7 [==============================] - 0s 8ms/step - loss: 0.0021 - val_loss: 0.0999\n",
            "Epoch 122/300\n",
            "7/7 [==============================] - 0s 7ms/step - loss: 0.0021 - val_loss: 0.1000\n",
            "Epoch 123/300\n",
            "7/7 [==============================] - 0s 7ms/step - loss: 0.0021 - val_loss: 0.1000\n",
            "Epoch 124/300\n",
            "7/7 [==============================] - 0s 7ms/step - loss: 0.0020 - val_loss: 0.0999\n",
            "Epoch 125/300\n",
            "7/7 [==============================] - 0s 7ms/step - loss: 0.0020 - val_loss: 0.1004\n",
            "Epoch 126/300\n",
            "7/7 [==============================] - 0s 7ms/step - loss: 0.0019 - val_loss: 0.0999\n",
            "Epoch 127/300\n",
            "7/7 [==============================] - 0s 7ms/step - loss: 0.0019 - val_loss: 0.0999\n",
            "Epoch 128/300\n",
            "7/7 [==============================] - 0s 7ms/step - loss: 0.0019 - val_loss: 0.1003\n",
            "Epoch 129/300\n",
            "7/7 [==============================] - 0s 7ms/step - loss: 0.0019 - val_loss: 0.1005\n",
            "Epoch 130/300\n",
            "7/7 [==============================] - 0s 7ms/step - loss: 0.0018 - val_loss: 0.1001\n",
            "Epoch 131/300\n",
            "7/7 [==============================] - 0s 7ms/step - loss: 0.0018 - val_loss: 0.0992\n",
            "Epoch 132/300\n",
            "7/7 [==============================] - 0s 6ms/step - loss: 0.0018 - val_loss: 0.0997\n",
            "Epoch 133/300\n",
            "7/7 [==============================] - 0s 7ms/step - loss: 0.0017 - val_loss: 0.1002\n",
            "Epoch 134/300\n",
            "7/7 [==============================] - 0s 7ms/step - loss: 0.0017 - val_loss: 0.1001\n",
            "Epoch 135/300\n",
            "7/7 [==============================] - 0s 9ms/step - loss: 0.0016 - val_loss: 0.1000\n",
            "Epoch 136/300\n",
            "7/7 [==============================] - 0s 6ms/step - loss: 0.0016 - val_loss: 0.0998\n",
            "Epoch 137/300\n",
            "7/7 [==============================] - 0s 6ms/step - loss: 0.0016 - val_loss: 0.1004\n",
            "Epoch 138/300\n",
            "7/7 [==============================] - 0s 7ms/step - loss: 0.0016 - val_loss: 0.0998\n",
            "Epoch 139/300\n",
            "7/7 [==============================] - 0s 9ms/step - loss: 0.0015 - val_loss: 0.0995\n",
            "Epoch 140/300\n",
            "7/7 [==============================] - 0s 8ms/step - loss: 0.0016 - val_loss: 0.1002\n",
            "Epoch 141/300\n",
            "7/7 [==============================] - 0s 7ms/step - loss: 0.0015 - val_loss: 0.1001\n",
            "Epoch 142/300\n",
            "7/7 [==============================] - 0s 7ms/step - loss: 0.0014 - val_loss: 0.1001\n",
            "Epoch 143/300\n",
            "7/7 [==============================] - 0s 7ms/step - loss: 0.0014 - val_loss: 0.1000\n",
            "Epoch 144/300\n",
            "7/7 [==============================] - 0s 7ms/step - loss: 0.0014 - val_loss: 0.1001\n",
            "Epoch 145/300\n",
            "7/7 [==============================] - 0s 6ms/step - loss: 0.0014 - val_loss: 0.1001\n",
            "Epoch 146/300\n",
            "7/7 [==============================] - 0s 7ms/step - loss: 0.0013 - val_loss: 0.0999\n",
            "Epoch 147/300\n",
            "7/7 [==============================] - 0s 7ms/step - loss: 0.0014 - val_loss: 0.1004\n",
            "Epoch 148/300\n",
            "7/7 [==============================] - 0s 7ms/step - loss: 0.0014 - val_loss: 0.0998\n",
            "Epoch 149/300\n",
            "7/7 [==============================] - 0s 7ms/step - loss: 0.0013 - val_loss: 0.0998\n",
            "Epoch 150/300\n",
            "7/7 [==============================] - 0s 7ms/step - loss: 0.0013 - val_loss: 0.1001\n",
            "Epoch 151/300\n",
            "7/7 [==============================] - 0s 7ms/step - loss: 0.0013 - val_loss: 0.1000\n",
            "Epoch 152/300\n",
            "7/7 [==============================] - 0s 7ms/step - loss: 0.0013 - val_loss: 0.0998\n",
            "Epoch 153/300\n",
            "7/7 [==============================] - 0s 7ms/step - loss: 0.0012 - val_loss: 0.0999\n",
            "Epoch 154/300\n",
            "7/7 [==============================] - 0s 6ms/step - loss: 0.0012 - val_loss: 0.1000\n",
            "Epoch 155/300\n",
            "7/7 [==============================] - 0s 6ms/step - loss: 0.0012 - val_loss: 0.0997\n",
            "Epoch 156/300\n",
            "7/7 [==============================] - 0s 7ms/step - loss: 0.0011 - val_loss: 0.0998\n",
            "Epoch 157/300\n",
            "7/7 [==============================] - 0s 8ms/step - loss: 0.0011 - val_loss: 0.0998\n",
            "Epoch 158/300\n",
            "7/7 [==============================] - 0s 7ms/step - loss: 0.0011 - val_loss: 0.1000\n",
            "Epoch 159/300\n",
            "7/7 [==============================] - 0s 7ms/step - loss: 0.0011 - val_loss: 0.0995\n",
            "Epoch 160/300\n",
            "7/7 [==============================] - 0s 7ms/step - loss: 0.0011 - val_loss: 0.0999\n",
            "Epoch 161/300\n",
            "7/7 [==============================] - 0s 7ms/step - loss: 0.0010 - val_loss: 0.0997\n",
            "Epoch 162/300\n",
            "7/7 [==============================] - 0s 7ms/step - loss: 0.0010 - val_loss: 0.0998\n",
            "Epoch 163/300\n",
            "7/7 [==============================] - 0s 7ms/step - loss: 0.0010 - val_loss: 0.0996\n",
            "Epoch 164/300\n",
            "7/7 [==============================] - 0s 8ms/step - loss: 9.9903e-04 - val_loss: 0.0996\n",
            "Epoch 165/300\n",
            "7/7 [==============================] - 0s 7ms/step - loss: 9.8030e-04 - val_loss: 0.0995\n",
            "Epoch 166/300\n",
            "7/7 [==============================] - 0s 11ms/step - loss: 9.7361e-04 - val_loss: 0.0995\n",
            "Epoch 167/300\n",
            "7/7 [==============================] - 0s 7ms/step - loss: 9.5762e-04 - val_loss: 0.0996\n",
            "Epoch 168/300\n",
            "7/7 [==============================] - 0s 7ms/step - loss: 9.4491e-04 - val_loss: 0.0996\n",
            "Epoch 169/300\n",
            "7/7 [==============================] - 0s 7ms/step - loss: 9.3344e-04 - val_loss: 0.0997\n",
            "Epoch 170/300\n",
            "7/7 [==============================] - 0s 7ms/step - loss: 9.1676e-04 - val_loss: 0.0994\n",
            "Epoch 171/300\n",
            "7/7 [==============================] - 0s 8ms/step - loss: 9.0717e-04 - val_loss: 0.0993\n",
            "Epoch 172/300\n",
            "7/7 [==============================] - 0s 7ms/step - loss: 8.9774e-04 - val_loss: 0.0993\n",
            "Epoch 173/300\n",
            "7/7 [==============================] - 0s 7ms/step - loss: 8.8301e-04 - val_loss: 0.0996\n",
            "Epoch 174/300\n",
            "7/7 [==============================] - 0s 7ms/step - loss: 8.7219e-04 - val_loss: 0.0993\n",
            "Epoch 175/300\n",
            "7/7 [==============================] - 0s 9ms/step - loss: 8.5635e-04 - val_loss: 0.0994\n",
            "Epoch 176/300\n",
            "7/7 [==============================] - 0s 7ms/step - loss: 8.5956e-04 - val_loss: 0.0992\n",
            "Epoch 177/300\n",
            "7/7 [==============================] - 0s 6ms/step - loss: 8.5312e-04 - val_loss: 0.0991\n",
            "Epoch 178/300\n",
            "7/7 [==============================] - 0s 7ms/step - loss: 8.7865e-04 - val_loss: 0.0993\n",
            "Epoch 179/300\n",
            "7/7 [==============================] - 0s 7ms/step - loss: 8.6252e-04 - val_loss: 0.0992\n",
            "Epoch 180/300\n",
            "7/7 [==============================] - 0s 7ms/step - loss: 8.5773e-04 - val_loss: 0.0994\n",
            "Epoch 181/300\n",
            "7/7 [==============================] - 0s 6ms/step - loss: 8.2968e-04 - val_loss: 0.0993\n",
            "Epoch 182/300\n",
            "7/7 [==============================] - 0s 7ms/step - loss: 8.1082e-04 - val_loss: 0.0995\n",
            "Epoch 183/300\n",
            "7/7 [==============================] - 0s 7ms/step - loss: 7.9377e-04 - val_loss: 0.0991\n",
            "Epoch 184/300\n",
            "7/7 [==============================] - 0s 7ms/step - loss: 7.8701e-04 - val_loss: 0.0992\n",
            "Epoch 185/300\n",
            "7/7 [==============================] - 0s 7ms/step - loss: 7.6869e-04 - val_loss: 0.0992\n",
            "Epoch 186/300\n",
            "7/7 [==============================] - 0s 8ms/step - loss: 7.5732e-04 - val_loss: 0.0990\n",
            "Epoch 187/300\n",
            "7/7 [==============================] - 0s 9ms/step - loss: 7.5789e-04 - val_loss: 0.0992\n",
            "Epoch 188/300\n",
            "7/7 [==============================] - 0s 7ms/step - loss: 7.6424e-04 - val_loss: 0.0989\n",
            "Epoch 189/300\n",
            "7/7 [==============================] - 0s 6ms/step - loss: 7.5848e-04 - val_loss: 0.0994\n",
            "Epoch 190/300\n",
            "7/7 [==============================] - 0s 8ms/step - loss: 7.5086e-04 - val_loss: 0.0990\n",
            "Epoch 191/300\n",
            "7/7 [==============================] - 0s 7ms/step - loss: 7.4240e-04 - val_loss: 0.0994\n",
            "Epoch 192/300\n",
            "7/7 [==============================] - 0s 7ms/step - loss: 7.4141e-04 - val_loss: 0.0988\n",
            "Epoch 193/300\n",
            "7/7 [==============================] - 0s 7ms/step - loss: 7.2789e-04 - val_loss: 0.0995\n",
            "Epoch 194/300\n",
            "7/7 [==============================] - 0s 7ms/step - loss: 7.6882e-04 - val_loss: 0.0980\n",
            "Epoch 195/300\n",
            "7/7 [==============================] - 0s 7ms/step - loss: 8.5798e-04 - val_loss: 0.1007\n",
            "Epoch 196/300\n",
            "7/7 [==============================] - 0s 7ms/step - loss: 9.3501e-04 - val_loss: 0.0978\n",
            "Epoch 197/300\n",
            "7/7 [==============================] - 0s 8ms/step - loss: 9.2075e-04 - val_loss: 0.1005\n",
            "Epoch 198/300\n",
            "7/7 [==============================] - 0s 6ms/step - loss: 8.6310e-04 - val_loss: 0.0979\n",
            "Epoch 199/300\n",
            "7/7 [==============================] - 0s 7ms/step - loss: 8.9342e-04 - val_loss: 0.0995\n",
            "Epoch 200/300\n",
            "7/7 [==============================] - 0s 7ms/step - loss: 8.3620e-04 - val_loss: 0.0982\n",
            "Epoch 201/300\n",
            "7/7 [==============================] - 0s 7ms/step - loss: 8.5606e-04 - val_loss: 0.0997\n",
            "Epoch 202/300\n",
            "7/7 [==============================] - 0s 7ms/step - loss: 7.5068e-04 - val_loss: 0.0984\n",
            "Epoch 203/300\n",
            "7/7 [==============================] - 0s 7ms/step - loss: 7.2568e-04 - val_loss: 0.0989\n",
            "Epoch 204/300\n",
            "7/7 [==============================] - 0s 7ms/step - loss: 7.3892e-04 - val_loss: 0.0987\n",
            "Epoch 205/300\n",
            "7/7 [==============================] - 0s 7ms/step - loss: 6.6761e-04 - val_loss: 0.0989\n",
            "Epoch 206/300\n",
            "7/7 [==============================] - 0s 7ms/step - loss: 8.2098e-04 - val_loss: 0.0978\n",
            "Epoch 207/300\n",
            "7/7 [==============================] - 0s 7ms/step - loss: 9.1387e-04 - val_loss: 0.0996\n",
            "Epoch 208/300\n",
            "7/7 [==============================] - 0s 7ms/step - loss: 9.8540e-04 - val_loss: 0.0978\n",
            "Epoch 209/300\n",
            "7/7 [==============================] - 0s 8ms/step - loss: 0.0011 - val_loss: 0.0992\n",
            "Epoch 210/300\n",
            "7/7 [==============================] - 0s 7ms/step - loss: 8.4014e-04 - val_loss: 0.0977\n",
            "Epoch 211/300\n",
            "7/7 [==============================] - 0s 8ms/step - loss: 8.1272e-04 - val_loss: 0.0986\n",
            "Epoch 212/300\n",
            "7/7 [==============================] - 0s 8ms/step - loss: 7.1034e-04 - val_loss: 0.0979\n",
            "Epoch 213/300\n",
            "7/7 [==============================] - 0s 8ms/step - loss: 6.9963e-04 - val_loss: 0.0988\n",
            "Epoch 214/300\n",
            "7/7 [==============================] - 0s 7ms/step - loss: 7.4892e-04 - val_loss: 0.0975\n",
            "Epoch 215/300\n",
            "7/7 [==============================] - 0s 7ms/step - loss: 6.9649e-04 - val_loss: 0.0993\n",
            "Epoch 216/300\n",
            "7/7 [==============================] - 0s 7ms/step - loss: 6.2301e-04 - val_loss: 0.0976\n",
            "Epoch 217/300\n",
            "7/7 [==============================] - 0s 8ms/step - loss: 6.8304e-04 - val_loss: 0.0994\n",
            "Epoch 218/300\n",
            "7/7 [==============================] - 0s 8ms/step - loss: 6.9741e-04 - val_loss: 0.0977\n",
            "Epoch 219/300\n",
            "7/7 [==============================] - 0s 7ms/step - loss: 6.4499e-04 - val_loss: 0.0985\n",
            "Epoch 220/300\n",
            "7/7 [==============================] - 0s 7ms/step - loss: 6.8795e-04 - val_loss: 0.0985\n",
            "Epoch 221/300\n",
            "7/7 [==============================] - 0s 7ms/step - loss: 5.9015e-04 - val_loss: 0.0990\n",
            "Epoch 222/300\n",
            "7/7 [==============================] - 0s 7ms/step - loss: 6.5999e-04 - val_loss: 0.0981\n",
            "Epoch 223/300\n",
            "7/7 [==============================] - 0s 7ms/step - loss: 5.9123e-04 - val_loss: 0.0980\n",
            "Epoch 224/300\n",
            "7/7 [==============================] - 0s 7ms/step - loss: 5.6667e-04 - val_loss: 0.0988\n",
            "Epoch 225/300\n",
            "7/7 [==============================] - 0s 7ms/step - loss: 5.4955e-04 - val_loss: 0.0983\n",
            "Epoch 226/300\n",
            "7/7 [==============================] - 0s 7ms/step - loss: 5.9504e-04 - val_loss: 0.0983\n",
            "Epoch 227/300\n",
            "7/7 [==============================] - 0s 7ms/step - loss: 6.0408e-04 - val_loss: 0.0984\n",
            "Epoch 228/300\n",
            "7/7 [==============================] - 0s 7ms/step - loss: 6.0010e-04 - val_loss: 0.0984\n",
            "Epoch 229/300\n",
            "7/7 [==============================] - 0s 7ms/step - loss: 6.5811e-04 - val_loss: 0.0979\n",
            "Epoch 230/300\n",
            "7/7 [==============================] - 0s 8ms/step - loss: 6.1857e-04 - val_loss: 0.0982\n",
            "Epoch 231/300\n",
            "7/7 [==============================] - 0s 7ms/step - loss: 6.3056e-04 - val_loss: 0.0984\n",
            "Epoch 232/300\n",
            "7/7 [==============================] - 0s 7ms/step - loss: 6.0687e-04 - val_loss: 0.0982\n",
            "Epoch 233/300\n",
            "7/7 [==============================] - 0s 8ms/step - loss: 5.6507e-04 - val_loss: 0.0982\n",
            "Epoch 234/300\n",
            "7/7 [==============================] - 0s 7ms/step - loss: 5.4125e-04 - val_loss: 0.0988\n",
            "Epoch 235/300\n",
            "7/7 [==============================] - 0s 7ms/step - loss: 5.1124e-04 - val_loss: 0.0974\n",
            "Epoch 236/300\n",
            "7/7 [==============================] - 0s 7ms/step - loss: 5.0041e-04 - val_loss: 0.0985\n",
            "Epoch 237/300\n",
            "7/7 [==============================] - 0s 7ms/step - loss: 4.7289e-04 - val_loss: 0.0976\n",
            "Epoch 238/300\n",
            "7/7 [==============================] - 0s 7ms/step - loss: 4.6329e-04 - val_loss: 0.0985\n",
            "Epoch 239/300\n",
            "7/7 [==============================] - 0s 7ms/step - loss: 4.5389e-04 - val_loss: 0.0980\n",
            "Epoch 240/300\n",
            "7/7 [==============================] - 0s 7ms/step - loss: 4.3713e-04 - val_loss: 0.0984\n",
            "Epoch 241/300\n",
            "7/7 [==============================] - 0s 7ms/step - loss: 4.3092e-04 - val_loss: 0.0977\n",
            "Epoch 242/300\n",
            "7/7 [==============================] - 0s 7ms/step - loss: 4.3159e-04 - val_loss: 0.0990\n",
            "Epoch 243/300\n",
            "7/7 [==============================] - 0s 7ms/step - loss: 4.4654e-04 - val_loss: 0.0978\n",
            "Epoch 244/300\n",
            "7/7 [==============================] - 0s 7ms/step - loss: 4.4892e-04 - val_loss: 0.0992\n",
            "Epoch 245/300\n",
            "7/7 [==============================] - 0s 7ms/step - loss: 4.5349e-04 - val_loss: 0.0973\n",
            "Epoch 246/300\n",
            "7/7 [==============================] - 0s 7ms/step - loss: 4.4245e-04 - val_loss: 0.0991\n",
            "Epoch 247/300\n",
            "7/7 [==============================] - 0s 7ms/step - loss: 4.4332e-04 - val_loss: 0.0976\n",
            "Epoch 248/300\n",
            "7/7 [==============================] - 0s 7ms/step - loss: 4.4635e-04 - val_loss: 0.0990\n",
            "Epoch 249/300\n",
            "7/7 [==============================] - 0s 10ms/step - loss: 4.5997e-04 - val_loss: 0.0980\n",
            "Epoch 250/300\n",
            "7/7 [==============================] - 0s 7ms/step - loss: 4.7659e-04 - val_loss: 0.0993\n",
            "Epoch 251/300\n",
            "7/7 [==============================] - 0s 7ms/step - loss: 5.2804e-04 - val_loss: 0.0972\n",
            "Epoch 252/300\n",
            "7/7 [==============================] - 0s 7ms/step - loss: 5.4504e-04 - val_loss: 0.0990\n",
            "Epoch 253/300\n",
            "7/7 [==============================] - 0s 7ms/step - loss: 5.1923e-04 - val_loss: 0.0972\n",
            "Epoch 254/300\n",
            "7/7 [==============================] - 0s 6ms/step - loss: 5.1143e-04 - val_loss: 0.0995\n",
            "Epoch 255/300\n",
            "7/7 [==============================] - 0s 7ms/step - loss: 4.9498e-04 - val_loss: 0.0966\n",
            "Epoch 256/300\n",
            "7/7 [==============================] - 0s 7ms/step - loss: 4.7160e-04 - val_loss: 0.0992\n",
            "Epoch 257/300\n",
            "7/7 [==============================] - 0s 8ms/step - loss: 4.7567e-04 - val_loss: 0.0973\n",
            "Epoch 258/300\n",
            "7/7 [==============================] - 0s 7ms/step - loss: 4.6849e-04 - val_loss: 0.0990\n",
            "Epoch 259/300\n",
            "7/7 [==============================] - 0s 6ms/step - loss: 4.7248e-04 - val_loss: 0.0976\n",
            "Epoch 260/300\n",
            "7/7 [==============================] - 0s 7ms/step - loss: 4.8368e-04 - val_loss: 0.0995\n",
            "Epoch 261/300\n",
            "7/7 [==============================] - 0s 7ms/step - loss: 5.4884e-04 - val_loss: 0.0973\n",
            "Epoch 262/300\n",
            "7/7 [==============================] - 0s 7ms/step - loss: 5.6840e-04 - val_loss: 0.0990\n",
            "Epoch 263/300\n",
            "7/7 [==============================] - 0s 7ms/step - loss: 5.4270e-04 - val_loss: 0.0978\n",
            "Epoch 264/300\n",
            "7/7 [==============================] - 0s 6ms/step - loss: 5.0419e-04 - val_loss: 0.0993\n",
            "Epoch 265/300\n",
            "7/7 [==============================] - 0s 7ms/step - loss: 5.3277e-04 - val_loss: 0.0967\n",
            "Epoch 266/300\n",
            "7/7 [==============================] - 0s 7ms/step - loss: 6.1321e-04 - val_loss: 0.1004\n",
            "Epoch 267/300\n",
            "7/7 [==============================] - 0s 8ms/step - loss: 5.7156e-04 - val_loss: 0.0962\n",
            "Epoch 268/300\n",
            "7/7 [==============================] - 0s 7ms/step - loss: 5.5452e-04 - val_loss: 0.0994\n",
            "Epoch 269/300\n",
            "7/7 [==============================] - 0s 6ms/step - loss: 6.3163e-04 - val_loss: 0.0972\n",
            "Epoch 270/300\n",
            "7/7 [==============================] - 0s 7ms/step - loss: 8.5426e-04 - val_loss: 0.1013\n",
            "Epoch 271/300\n",
            "7/7 [==============================] - 0s 7ms/step - loss: 8.7413e-04 - val_loss: 0.0964\n",
            "Epoch 272/300\n",
            "7/7 [==============================] - 0s 7ms/step - loss: 0.0010 - val_loss: 0.1009\n",
            "Epoch 273/300\n",
            "7/7 [==============================] - 0s 7ms/step - loss: 0.0010 - val_loss: 0.0957\n",
            "Epoch 274/300\n",
            "7/7 [==============================] - 0s 8ms/step - loss: 0.0014 - val_loss: 0.1030\n",
            "Epoch 275/300\n",
            "7/7 [==============================] - 0s 7ms/step - loss: 0.0023 - val_loss: 0.0954\n",
            "Epoch 276/300\n",
            "7/7 [==============================] - 0s 7ms/step - loss: 0.0039 - val_loss: 0.1053\n",
            "Epoch 277/300\n",
            "7/7 [==============================] - 0s 6ms/step - loss: 0.0035 - val_loss: 0.0940\n",
            "Epoch 278/300\n",
            "7/7 [==============================] - 0s 7ms/step - loss: 0.0028 - val_loss: 0.0974\n",
            "Epoch 279/300\n",
            "7/7 [==============================] - 0s 7ms/step - loss: 0.0023 - val_loss: 0.0987\n",
            "Epoch 280/300\n",
            "7/7 [==============================] - 0s 7ms/step - loss: 0.0017 - val_loss: 0.0935\n",
            "Epoch 281/300\n",
            "7/7 [==============================] - 0s 7ms/step - loss: 0.0016 - val_loss: 0.0981\n",
            "Epoch 282/300\n",
            "7/7 [==============================] - 0s 7ms/step - loss: 0.0013 - val_loss: 0.0952\n",
            "Epoch 283/300\n",
            "7/7 [==============================] - 0s 7ms/step - loss: 9.3728e-04 - val_loss: 0.0978\n",
            "Epoch 284/300\n",
            "7/7 [==============================] - 0s 8ms/step - loss: 8.8331e-04 - val_loss: 0.0955\n",
            "Epoch 285/300\n",
            "7/7 [==============================] - 0s 7ms/step - loss: 7.2274e-04 - val_loss: 0.0970\n",
            "Epoch 286/300\n",
            "7/7 [==============================] - 0s 9ms/step - loss: 5.9488e-04 - val_loss: 0.0972\n",
            "Epoch 287/300\n",
            "7/7 [==============================] - 0s 7ms/step - loss: 5.5408e-04 - val_loss: 0.0963\n",
            "Epoch 288/300\n",
            "7/7 [==============================] - 0s 7ms/step - loss: 5.3032e-04 - val_loss: 0.0969\n",
            "Epoch 289/300\n",
            "7/7 [==============================] - 0s 7ms/step - loss: 4.3227e-04 - val_loss: 0.0963\n",
            "Epoch 290/300\n",
            "7/7 [==============================] - 0s 8ms/step - loss: 4.1423e-04 - val_loss: 0.0965\n",
            "Epoch 291/300\n",
            "7/7 [==============================] - 0s 6ms/step - loss: 3.6626e-04 - val_loss: 0.0971\n",
            "Epoch 292/300\n",
            "7/7 [==============================] - 0s 7ms/step - loss: 3.5623e-04 - val_loss: 0.0963\n",
            "Epoch 293/300\n",
            "7/7 [==============================] - 0s 7ms/step - loss: 3.5539e-04 - val_loss: 0.0973\n",
            "Epoch 294/300\n",
            "7/7 [==============================] - 0s 6ms/step - loss: 3.2753e-04 - val_loss: 0.0971\n",
            "Epoch 295/300\n",
            "7/7 [==============================] - 0s 7ms/step - loss: 3.1966e-04 - val_loss: 0.0967\n",
            "Epoch 296/300\n",
            "7/7 [==============================] - 0s 7ms/step - loss: 2.9880e-04 - val_loss: 0.0971\n",
            "Epoch 297/300\n",
            "7/7 [==============================] - 0s 8ms/step - loss: 2.8406e-04 - val_loss: 0.0970\n",
            "Epoch 298/300\n",
            "7/7 [==============================] - 0s 7ms/step - loss: 2.7694e-04 - val_loss: 0.0973\n",
            "Epoch 299/300\n",
            "7/7 [==============================] - 0s 7ms/step - loss: 2.6764e-04 - val_loss: 0.0970\n",
            "Epoch 300/300\n",
            "7/7 [==============================] - 0s 6ms/step - loss: 2.6141e-04 - val_loss: 0.0972\n"
          ]
        }
      ]
    },
    {
      "cell_type": "code",
      "source": [
        "model.summary()"
      ],
      "metadata": {
        "id": "fN7Qu7SS0Y0g",
        "colab": {
          "base_uri": "https://localhost:8080/"
        },
        "outputId": "2b52a529-05a7-4d99-97c1-fc7fc20b3206"
      },
      "execution_count": 310,
      "outputs": [
        {
          "output_type": "stream",
          "name": "stdout",
          "text": [
            "Model: \"sequential_20\"\n",
            "_________________________________________________________________\n",
            " Layer (type)                Output Shape              Param #   \n",
            "=================================================================\n",
            " dense_80 (Dense)            (None, 80)                8560      \n",
            "                                                                 \n",
            " dense_81 (Dense)            (None, 40)                3240      \n",
            "                                                                 \n",
            " dense_82 (Dense)            (None, 20)                820       \n",
            "                                                                 \n",
            " dense_83 (Dense)            (None, 10)                210       \n",
            "                                                                 \n",
            "=================================================================\n",
            "Total params: 12,830\n",
            "Trainable params: 12,830\n",
            "Non-trainable params: 0\n",
            "_________________________________________________________________\n"
          ]
        }
      ]
    },
    {
      "cell_type": "code",
      "source": [
        "historydf=pd.DataFrame(history.history, index=history.epoch)\n",
        "historydf.plot(figsize=(8,4))"
      ],
      "metadata": {
        "id": "Ea44a5mP0iyO",
        "colab": {
          "base_uri": "https://localhost:8080/",
          "height": 283
        },
        "outputId": "932e399c-7612-4e02-d21c-b0536d51d342"
      },
      "execution_count": 311,
      "outputs": [
        {
          "output_type": "execute_result",
          "data": {
            "text/plain": [
              "<matplotlib.axes._subplots.AxesSubplot at 0x7fa9d2d5f7d0>"
            ]
          },
          "metadata": {},
          "execution_count": 311
        },
        {
          "output_type": "display_data",
          "data": {
            "text/plain": [
              "<Figure size 576x288 with 1 Axes>"
            ],
            "image/png": "[encoded data removed]"
          },
          "metadata": {
            "needs_background": "light"
          }
        }
      ]
    }
  ]
}