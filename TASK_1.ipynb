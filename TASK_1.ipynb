{
  "nbformat": 4,
  "nbformat_minor": 0,
  "metadata": {
    "colab": {
      "name": "TASK 1.ipynb",
      "provenance": [],
      "collapsed_sections": []
    },
    "kernelspec": {
      "name": "python3",
      "display_name": "Python 3"
    }
  },
  "cells": [
    {
      "cell_type": "code",
      "metadata": {
        "id": "iWnirnHrCCpV"
      },
      "source": [
        "import pandas as pd\n",
        "import matplotlib.pyplot as plt\n",
        "import numpy as np"
      ],
      "execution_count": 383,
      "outputs": []
    },
    {
      "cell_type": "code",
      "metadata": {
        "id": "hFFl84ujHpB0"
      },
      "source": [
        "m=0.8 \n",
        "c=0.0 \n",
        "L=0.00005\n",
        "epoch=30\n",
        "epoch_error_list=[]\n",
        "epoch_count_list=[]"
      ],
      "execution_count": 384,
      "outputs": []
    },
    {
      "cell_type": "code",
      "metadata": {
        "id": "Wa9Nwcaw_I6J"
      },
      "source": [
        "noise =np.random.normal(1,10,100)"
      ],
      "execution_count": 385,
      "outputs": []
    },
    {
      "cell_type": "code",
      "source": [
        "noise"
      ],
      "metadata": {
        "colab": {
          "base_uri": "https://localhost:8080/"
        },
        "id": "Opv6qX88pBBh",
        "outputId": "02000c62-2922-402e-d9d5-37201d6e5ff7"
      },
      "execution_count": 386,
      "outputs": [
        {
          "output_type": "execute_result",
          "data": {
            "text/plain": [
              "array([-20.40903925,  10.0213531 ,  -2.48504106,  -4.49779194,\n",
              "        -2.07922551,  -6.48220921,  12.60043609,   4.48205232,\n",
              "         5.16951062,  -2.37041457,  -5.18755346,  -2.82099922,\n",
              "         5.97192973,   2.53663077,   9.47398512,   0.71183464,\n",
              "        -7.45767246,  -2.69152331, -17.01503551,  -7.12295531,\n",
              "         2.51418958,  -1.8462478 , -15.59736487,  17.68290458,\n",
              "         1.11880825,   1.62559417,  -0.63673393,  14.17173893,\n",
              "         2.59398462,  -2.59649551,  -2.26464013, -13.06334184,\n",
              "        -1.98457943,  15.34235852,   6.62784449,  13.41396268,\n",
              "         1.95928463,   8.79574224,  14.61545386, -12.96116799,\n",
              "         8.38661899,  -9.25706824,   0.26922705,  -5.72113411,\n",
              "         7.11660765,  10.10261387,  17.34763197,   4.17941666,\n",
              "         5.34389866,   3.2237877 ,   2.43817927,   3.06048518,\n",
              "        -7.6971881 , -18.27692643,  12.01407382,   2.51521349,\n",
              "        10.93729845,   8.00423614,  -7.74120625,   1.11308692,\n",
              "         1.8406481 ,   0.33258641,  13.21705997,   9.25653933,\n",
              "        -5.77262491,   4.61593717,   1.47251942,  16.38596371,\n",
              "         5.18995871,   3.04939985,  -2.50672557,  -8.16843743,\n",
              "        -9.56264939,  -5.06156825,  10.22299899, -14.2172461 ,\n",
              "         4.46106736,  10.62867903,   2.2427577 ,  -1.18083697,\n",
              "         8.4780955 ,   1.30589288,   6.41322154,  -2.76652522,\n",
              "         4.5281087 ,  -6.19188686, -16.28507114,  -7.86911631,\n",
              "        -3.54529067, -18.57364709,   4.00063417,   1.47168885,\n",
              "        -3.37358026,  10.307826  ,  -6.61146093,   1.82277123,\n",
              "       -22.07302309, -18.4606442 , -15.70251026,  18.99521895])"
            ]
          },
          "metadata": {},
          "execution_count": 386
        }
      ]
    },
    {
      "cell_type": "code",
      "metadata": {
        "id": "iVV4r4AH_Vz7"
      },
      "source": [
        "X=np.random.uniform(5,150,100)\n",
        "y=m*X+c\n",
        "Y=y+noise\n",
        "\n",
        "N=float(len(X))"
      ],
      "execution_count": 387,
      "outputs": []
    },
    {
      "cell_type": "code",
      "source": [
        "X"
      ],
      "metadata": {
        "colab": {
          "base_uri": "https://localhost:8080/"
        },
        "id": "IOxzldZOpkHc",
        "outputId": "104d94ab-2681-491d-8de5-6547b845f8c3"
      },
      "execution_count": 388,
      "outputs": [
        {
          "output_type": "execute_result",
          "data": {
            "text/plain": [
              "array([ 59.20482153,  70.85598819, 111.81695038,  44.38517117,\n",
              "        51.99498698,  50.29820088,  10.95332785, 149.20440722,\n",
              "        50.43786453,  62.47322438, 108.42486812,  12.06475565,\n",
              "        30.61516907, 141.20392994, 127.33699084, 134.93315438,\n",
              "       115.35782453,  61.68006153,  86.2648063 , 143.1773526 ,\n",
              "        46.26641802,  38.96655911, 143.69754279,  67.99154561,\n",
              "        86.18513607,  71.6510657 , 108.45965491,  62.59136808,\n",
              "        41.1457731 , 121.15172541,  57.66487645,  93.90554169,\n",
              "        85.05008341, 134.6440586 ,  10.11157064, 102.79635138,\n",
              "        49.05976098, 143.94895058,  91.4129976 ,  63.04294678,\n",
              "       115.98959909,  64.33572912, 132.62594274,  56.26664637,\n",
              "       142.83013667,  49.89032132, 128.65904818,  84.66849906,\n",
              "        57.929559  , 115.1486492 ,  37.25976009,  88.16762112,\n",
              "        62.1172352 ,   8.56953947,  14.52807366, 115.16399942,\n",
              "        17.5104448 ,  96.10987765,  34.22044468,  94.69146002,\n",
              "       125.40167418, 124.75270976,  72.0404459 , 114.5706768 ,\n",
              "        99.64787958, 108.95657016,  74.26670841,  22.93147946,\n",
              "        81.63929401,  85.56216235, 110.40687667,  23.60332922,\n",
              "        27.4872731 ,  66.87420311, 133.72291273,  33.2636632 ,\n",
              "        15.58053458,  39.43117257, 146.89490035, 148.30680337,\n",
              "        17.27839699,  75.03940805,  70.64975459,  82.75154331,\n",
              "        21.92551586,  50.30117249, 123.03250984,  66.67124519,\n",
              "       134.92208075,  43.51786733,  82.64076405, 103.10036621,\n",
              "        46.72089623, 136.35888847,  78.89228679,  80.7786284 ,\n",
              "       106.52106971, 100.32761614,  96.05183314,  78.21790585])"
            ]
          },
          "metadata": {},
          "execution_count": 388
        }
      ]
    },
    {
      "cell_type": "code",
      "metadata": {
        "colab": {
          "base_uri": "https://localhost:8080/",
          "height": 282
        },
        "id": "GHbL4-8oYqXF",
        "outputId": "c7d779a0-f103-49bd-c1a1-3497faf1c8bf"
      },
      "source": [
        "plt.scatter(X,Y)"
      ],
      "execution_count": 389,
      "outputs": [
        {
          "output_type": "execute_result",
          "data": {
            "text/plain": [
              "<matplotlib.collections.PathCollection at 0x7effbc469c50>"
            ]
          },
          "metadata": {},
          "execution_count": 389
        },
        {
          "output_type": "display_data",
          "data": {
            "text/plain": [
              "<Figure size 432x288 with 1 Axes>"
            ],
            "image/png": "[encoded data removed]"
          },
          "metadata": {
            "needs_background": "light"
          }
        }
      ]
    },
    {
      "cell_type": "code",
      "metadata": {
        "id": "5OYiWvSlPehU"
      },
      "source": [
        "def mse(N,Y,Y_hat):\n",
        "  return (1/N)*sum(Y-Y_hat)**2"
      ],
      "execution_count": 390,
      "outputs": []
    },
    {
      "cell_type": "code",
      "metadata": {
        "id": "toAcxRKvKRDa"
      },
      "source": [
        "def gradient_descent_fit(m,c,N,L):\n",
        "  epoch_error_list=[]\n",
        "  epoch_count_list=[]\n",
        "  for i in range(epoch):\n",
        "    Y_hat = m*X+c\n",
        "    \n",
        "    \n",
        "    epoch_count_list=epoch_count_list[:]\n",
        "    epoch_count_list.append(i)\n",
        "    epoch_error=mse(N,Y,Y_hat)\n",
        "    \n",
        "    epoch_error_list=epoch_error_list[:]\n",
        "    epoch_error_list.append(epoch_error)\n",
        "\n",
        "   \n",
        "    D_m=(-2/N)*sum(X*(Y-Y_hat))\n",
        "    \n",
        "    D_c=(-2/N)*sum(Y-Y_hat)\n",
        "    \n",
        "   \n",
        "    m=m-(L * D_m)\n",
        "   \n",
        "    c=c-(L * D_c)\n",
        "  \n",
        "  print(\" m is: \",m,\" and  c is: \",c)\n",
        "  return Y_hat,epoch_count_list,epoch_error_list\n"
      ],
      "execution_count": 391,
      "outputs": []
    },
    {
      "cell_type": "code",
      "metadata": {
        "colab": {
          "base_uri": "https://localhost:8080/"
        },
        "id": "GZPZXs5a5OA-",
        "outputId": "e456dfe1-8d86-447e-b2b4-3c5125853820"
      },
      "source": [
        "\n",
        "returned_params=gradient_descent_fit(m,c,N,L)\n",
        "y_predicted=returned_params[0]\n",
        "total_epochs=returned_params[1]\n",
        "all_epoch_errors=returned_params[2]"
      ],
      "execution_count": 392,
      "outputs": [
        {
          "output_type": "stream",
          "name": "stdout",
          "text": [
            " m is:  0.8053093383739741  and  c is:  -3.632060807756454e-05\n"
          ]
        }
      ]
    },
    {
      "cell_type": "code",
      "metadata": {
        "id": "z4v8OM-eMR9r",
        "colab": {
          "base_uri": "https://localhost:8080/",
          "height": 663
        },
        "outputId": "fc305c0f-3632-41a2-eb96-d87195073275"
      },
      "source": [
        "\n",
        "fig,(ax1,ax2)=plt.subplots(2,gridspec_kw={'top':2})\n",
        "ax1.set(xlabel=\"Office size in Square ft\")\n",
        "ax1.set(ylabel=\"Monthly Rent in Ksh. (X1000)\")\n",
        "ax1.set_title(\"Regression Model For Nairobi Office Prices.\\n\\n Nairobi office prices :Line of Best Fit\\n\")\n",
        "ax1.scatter(X,Y)\n",
        "\n",
        "ax1.plot([min(X),max(X)],[min(y_predicted),max(y_predicted)],color='green')\n",
        "ax2.set_title(\"Graph 2:MSE  Error Curve\")\n",
        "ax2.set(xlabel=\"Epochs\")\n",
        "ax2.set(ylabel=\"Mean Squared Error\")\n",
        "ax2.plot(total_epochs,all_epoch_errors)\n",
        "\n",
        "\n",
        "epoch_count_list.clear()\n",
        "epoch_error_list.clear()"
      ],
      "execution_count": 393,
      "outputs": [
        {
          "output_type": "display_data",
          "data": {
            "text/plain": [
              "<Figure size 432x288 with 2 Axes>"
            ],
            "image/png": "[encoded data removed]"
          },
          "metadata": {
            "needs_background": "light"
          }
        }
      ]
    },
    {
      "cell_type": "code",
      "source": [
        "y_predicted"
      ],
      "metadata": {
        "id": "qsah70MitqYX"
      },
      "execution_count": 394,
      "outputs": []
    }
  ]
}