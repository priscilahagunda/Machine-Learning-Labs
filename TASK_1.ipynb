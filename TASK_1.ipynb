{
  "nbformat": 4,
  "nbformat_minor": 0,
  "metadata": {
    "colab": {
      "name": "TASK 1.ipynb",
      "provenance": [],
      "collapsed_sections": [],
      "include_colab_link": true
    },
    "kernelspec": {
      "name": "python3",
      "display_name": "Python 3"
    }
  },
  "cells": [
    {
      "cell_type": "markdown",
      "metadata": {
        "id": "view-in-github",
        "colab_type": "text"
      },
      "source": [
        "<a href=\"https://colab.research.google.com/github/priscilahagunda/Machine-Learning-Labs/blob/main/TASK_1.ipynb\" target=\"_parent\"><img src=\"https://colab.research.google.com/assets/colab-badge.svg\" alt=\"Open In Colab\"/></a>"
      ]
    },
    {
      "cell_type": "code",
      "metadata": {
        "id": "iWnirnHrCCpV"
      },
      "source": [
        "import pandas as pd\n",
        "import matplotlib.pyplot as plt\n",
        "import numpy as np\n"
      ],
      "execution_count": 86,
      "outputs": []
    },
    {
      "cell_type": "code",
      "metadata": {
        "id": "hFFl84ujHpB0"
      },
      "source": [
        "m=0.8 \n",
        "c=0.0 \n",
        "L=0.00005\n",
        "epoch=30\n",
        "epoch_error_list=[]\n",
        "epoch_count_list=[]"
      ],
      "execution_count": 87,
      "outputs": []
    },
    {
      "cell_type": "code",
      "metadata": {
        "id": "Wa9Nwcaw_I6J"
      },
      "source": [
        "noise = np.random.normal(1,10,100)\n"
      ],
      "execution_count": 88,
      "outputs": []
    },
    {
      "cell_type": "code",
      "source": [
        "noise"
      ],
      "metadata": {
        "colab": {
          "base_uri": "https://localhost:8080/"
        },
        "id": "Opv6qX88pBBh",
        "outputId": "70c08ea1-b205-40e5-8b65-09a42aff5a80"
      },
      "execution_count": 89,
      "outputs": [
        {
          "output_type": "execute_result",
          "data": {
            "text/plain": [
              "array([  6.02666837,   6.7951126 , -12.84164748,  -0.9500571 ,\n",
              "        -0.7994543 ,   2.25265374,  -5.40763673,  16.26774647,\n",
              "         1.44502812,   3.96716723,   1.55861412,  26.4206494 ,\n",
              "        -6.82413432,  -8.00098091,   7.76661613,  -2.33474244,\n",
              "        -3.2237676 ,  -6.71238826,  -3.89764758,  -2.56032931,\n",
              "        12.00596422,   6.19275265,  -2.67476277, -13.15305315,\n",
              "         7.80076367,  -4.20010468,  -7.67314656,  -6.53479043,\n",
              "        -2.53012261,   3.12707542,   9.50144919,  -4.45473536,\n",
              "        19.10074532,  -8.17005504,   5.65489612,   6.47229359,\n",
              "         2.22752945,  -7.95212881,  11.94331497,  14.04192575,\n",
              "        -0.95386717,   2.00483068,  -0.47168476,  -9.67617971,\n",
              "         7.7537728 ,   4.10933376,  10.7136898 ,  15.53222695,\n",
              "        12.72418254,  11.97665801,  10.41246126, -16.55321108,\n",
              "         6.56200946,  15.17992024,   3.51906514,  11.04497949,\n",
              "        -6.24453969, -17.72783912,   9.46302484,  -3.24408297,\n",
              "         1.69433406, -18.54458991,  11.01533904, -23.13520361,\n",
              "        -1.08251767,  14.14529261,  -1.00846824, -10.90338753,\n",
              "        16.07888665, -13.06078149,  -1.84282375,   9.16526322,\n",
              "         9.64607105,   4.8316613 ,  10.50396186,  -3.82278021,\n",
              "         0.22000315,   6.02914254,   9.74649795,  -2.61969502,\n",
              "        -1.87688786,  17.16984192,   5.74653167,  18.96446526,\n",
              "        -1.65528501,  -0.51280315,  -0.66917865, -15.63534827,\n",
              "        -5.25187445,   3.70743398,  30.01450553, -14.397941  ,\n",
              "        18.19926572,   7.74036097,  11.04525157,  -1.53326323,\n",
              "        15.50506057,   1.33158632, -14.088349  , -15.6316096 ])"
            ]
          },
          "metadata": {},
          "execution_count": 89
        }
      ]
    },
    {
      "cell_type": "code",
      "metadata": {
        "id": "iVV4r4AH_Vz7"
      },
      "source": [
        "X=np.random.uniform(5,150,100)\n",
        "y=m*X+c\n",
        "Y=y+noise\n",
        "\n",
        "N=float(len(X))"
      ],
      "execution_count": 90,
      "outputs": []
    },
    {
      "cell_type": "code",
      "source": [
        "X"
      ],
      "metadata": {
        "colab": {
          "base_uri": "https://localhost:8080/"
        },
        "id": "IOxzldZOpkHc",
        "outputId": "568a8fa9-e877-47aa-b3dc-a74f2736ff90"
      },
      "execution_count": 91,
      "outputs": [
        {
          "output_type": "execute_result",
          "data": {
            "text/plain": [
              "array([ 57.58478516, 141.64206601, 142.57329967,  83.38589922,\n",
              "        35.80139243, 104.6109673 , 130.53107444, 124.57521024,\n",
              "       117.22859491,  11.74063039,  79.319023  ,  31.88022707,\n",
              "        37.80011578, 101.14664951,  32.07823591, 101.63390652,\n",
              "        66.22767485,  24.80015237, 100.80873466,  52.7193032 ,\n",
              "       118.05029272,  60.98998792,  62.9505509 , 142.80105024,\n",
              "        25.29901663, 113.36726059,  58.5892491 ,  51.18406114,\n",
              "        59.47288209,   6.45117111, 107.20466761,  94.58138709,\n",
              "        70.09534693, 134.72817408,  57.52220572,   9.49655925,\n",
              "        88.95802054,  36.64768942,  96.15999702,  43.20544616,\n",
              "        36.87496729, 136.3807541 ,  88.29288872, 122.99182887,\n",
              "        99.98658543, 110.54818607,  98.37689747,  90.42873874,\n",
              "        77.85579786, 142.81343192, 118.21408717, 123.03535317,\n",
              "        51.4728971 ,  74.38849073, 125.8029611 ,  55.45530787,\n",
              "       119.00880185,  65.75385632,  30.20044353,   8.49860255,\n",
              "        81.20992085, 117.60716522,  76.47278911,  83.18207878,\n",
              "        71.79350088,   9.58070139,  80.99211135,  79.44522119,\n",
              "       104.43090004,  95.4336624 ,  49.09642213, 129.86978393,\n",
              "        54.15813407,  48.03132044,  19.91904876, 108.09492281,\n",
              "       133.49241374,  14.87288446,  49.30338354,  22.5360348 ,\n",
              "       126.65096009,  91.47155122, 105.62414158,  89.6869144 ,\n",
              "        59.8725191 , 126.49994276, 118.30851742,  50.34454252,\n",
              "        60.96955626,  26.27913346,  67.19911406,  90.40295176,\n",
              "       124.6644734 ,  42.83830709, 107.47244256,  73.75343095,\n",
              "       113.63963472, 106.31611931,  79.70259786,  90.65839995])"
            ]
          },
          "metadata": {},
          "execution_count": 91
        }
      ]
    },
    {
      "cell_type": "code",
      "metadata": {
        "colab": {
          "base_uri": "https://localhost:8080/",
          "height": 282
        },
        "id": "GHbL4-8oYqXF",
        "outputId": "cfe2f8bf-02f7-4c23-8449-c06e66322976"
      },
      "source": [
        "plt.scatter(X,Y)"
      ],
      "execution_count": 92,
      "outputs": [
        {
          "output_type": "execute_result",
          "data": {
            "text/plain": [
              "<matplotlib.collections.PathCollection at 0x7f37c8bfe550>"
            ]
          },
          "metadata": {},
          "execution_count": 92
        },
        {
          "output_type": "display_data",
          "data": {
            "text/plain": [
              "<Figure size 432x288 with 1 Axes>"
            ],
            "image/png": "[encoded data removed]"
          },
          "metadata": {
            "needs_background": "light"
          }
        }
      ]
    },
    {
      "cell_type": "code",
      "metadata": {
        "id": "5OYiWvSlPehU"
      },
      "source": [
        "def mse(N,Y,Y_hat):\n",
        "  return (1/N)*sum(Y-Y_hat)**2"
      ],
      "execution_count": 93,
      "outputs": []
    },
    {
      "cell_type": "code",
      "metadata": {
        "id": "toAcxRKvKRDa"
      },
      "source": [
        "def gradient_descent_fit(m,c,N,L):\n",
        "  epoch_error_list=[]\n",
        "  epoch_count_list=[]\n",
        "  for i in range(epoch):\n",
        "    Y_hat = m*X+c\n",
        "    \n",
        "    \n",
        "    epoch_count_list=epoch_count_list[:]\n",
        "    epoch_count_list.append(i)\n",
        "    epoch_error=mse(N,Y,Y_hat)\n",
        "    \n",
        "    epoch_error_list=epoch_error_list[:]\n",
        "    epoch_error_list.append(epoch_error)\n",
        "\n",
        "   \n",
        "    D_m=(-2/N)*sum(X*(Y-Y_hat))\n",
        "    \n",
        "    D_c=(-2/N)*sum(Y-Y_hat)\n",
        "    \n",
        "   \n",
        "    m=m-(L * D_m)\n",
        "   \n",
        "    c=c-(L * D_c)\n",
        "  \n",
        "  print(\" m is: \",m,\" and  c is: \",c)\n",
        "  return Y_hat,epoch_count_list,epoch_error_list\n"
      ],
      "execution_count": 94,
      "outputs": []
    },
    {
      "cell_type": "code",
      "metadata": {
        "colab": {
          "base_uri": "https://localhost:8080/"
        },
        "id": "GZPZXs5a5OA-",
        "outputId": "1cca1f0f-19cb-4f4b-d4ae-9ee29bfcb1ff"
      },
      "source": [
        "\n",
        "returned_params=gradient_descent_fit(m,c,N,L)\n",
        "y_predicted=returned_params[0]\n",
        "total_epochs=returned_params[1]\n",
        "all_epoch_errors=returned_params[2]"
      ],
      "execution_count": 95,
      "outputs": [
        {
          "output_type": "stream",
          "name": "stdout",
          "text": [
            " m is:  0.8152152663699133  and  c is:  0.002540993759050743\n"
          ]
        }
      ]
    },
    {
      "cell_type": "code",
      "metadata": {
        "id": "z4v8OM-eMR9r",
        "colab": {
          "base_uri": "https://localhost:8080/",
          "height": 663
        },
        "outputId": "cbb8c59c-629a-4700-a792-5f27fe2d6b66"
      },
      "source": [
        "\n",
        "fig,(ax1,ax2)=plt.subplots(2,gridspec_kw={'top':2})\n",
        "ax1.set(xlabel=\"Office size in Square ft\")\n",
        "ax1.set(ylabel=\"Monthly Rent in Ksh. (X1000)\")\n",
        "ax1.set_title(\"Regression Model For Nairobi Office Prices.\\n\\n Nairobi office prices :Line of Best Fit\\n\")\n",
        "ax1.scatter(X,Y)\n",
        "\n",
        "ax1.plot([min(X),max(X)],[min(y_predicted),max(y_predicted)],color='green')\n",
        "ax2.set_title(\"Graph 2:MSE  Error Curve\")\n",
        "ax2.set(xlabel=\"Epochs\")\n",
        "ax2.set(ylabel=\"Mean Squared Error\")\n",
        "ax2.plot(total_epochs,all_epoch_errors)\n",
        "\n",
        "\n",
        "epoch_count_list.clear()\n",
        "epoch_error_list.clear()"
      ],
      "execution_count": 96,
      "outputs": [
        {
          "output_type": "display_data",
          "data": {
            "text/plain": [
              "<Figure size 432x288 with 2 Axes>"
            ],
            "image/png": "[encoded data removed]"
          },
          "metadata": {
            "needs_background": "light"
          }
        }
      ]
    },
    {
      "cell_type": "markdown",
      "source": [
        "Prediction of office price when size is 100 square feet"
      ],
      "metadata": {
        "id": "PGW0LBtBhZWi"
      }
    },
    {
      "cell_type": "code",
      "source": [
        "def predict(self,m, c,noise):\n",
        "    y_predict = noise * m + c\n",
        "    return y_predict"
      ],
      "metadata": {
        "id": "X-OOuRK-gfs8"
      },
      "execution_count": 97,
      "outputs": []
    },
    {
      "cell_type": "code",
      "source": [
        "size = 100\n",
        "price = m * size + c\n",
        "price "
      ],
      "metadata": {
        "colab": {
          "base_uri": "https://localhost:8080/"
        },
        "id": "Kf1LzKFNbKpd",
        "outputId": "7f0b7253-6178-4e24-f6b5-496e6e1d5b0d"
      },
      "execution_count": 98,
      "outputs": [
        {
          "output_type": "execute_result",
          "data": {
            "text/plain": [
              "80.0"
            ]
          },
          "metadata": {},
          "execution_count": 98
        }
      ]
    }
  ]
}